{
 "cells": [
  {
   "cell_type": "markdown",
   "metadata": {},
   "source": [
    "Convolutional Neural Networks (CNNs) are powerful tools for computer vision tasks. In this notebook, I build and train a simple CNN for the purpose of recognising hand-written digits. The data is a collection of 70,000 28x28 pixel images of hand-written digits 0-9, therefore this is a 10-class classification problem. \n",
    "\n",
    "More information about the dataset can be found [here](https://en.wikipedia.org/wiki/MNIST_database)\n",
    "\n",
    "## This notebook contains the following content:\n",
    "* [1. Importing & Investigating the data](#first-bullet)\n",
    "* [2. Building the Neural Network with Keras](#second-bullet)\n",
    "* [3. Sources of Error](#third-bullet)\n",
    "* [4. Conclusions](#fourth-bullet)\n",
    "\n",
    "## Importing & Investigating the data <a class=\"anchor\" id=\"first-bullet\"></a>"
   ]
  },
  {
   "cell_type": "code",
   "execution_count": 1,
   "metadata": {
    "collapsed": true
   },
   "outputs": [],
   "source": [
    "import pandas as pd\n",
    "import numpy as np\n",
    "from sklearn.datasets import fetch_mldata\n",
    "\n",
    "import matplotlib.pyplot as plt\n",
    "import seaborn as sns\n",
    "\n",
    "%matplotlib inline"
   ]
  },
  {
   "cell_type": "code",
   "execution_count": 2,
   "metadata": {
    "collapsed": true
   },
   "outputs": [],
   "source": [
    "mnist = fetch_mldata('MNIST original')\n",
    "pixel_data = mnist.data"
   ]
  },
  {
   "cell_type": "code",
   "execution_count": 3,
   "metadata": {},
   "outputs": [
    {
     "data": {
      "text/plain": [
       "(70000, 784)"
      ]
     },
     "execution_count": 3,
     "metadata": {},
     "output_type": "execute_result"
    }
   ],
   "source": [
    "pixel_data.shape"
   ]
  },
  {
   "cell_type": "markdown",
   "metadata": {},
   "source": [
    "We can see that the 70,000 examples are currently in flat vectors of 784 pixels, we will need to convert these to 28x28 to process with convolutional filters."
   ]
  },
  {
   "cell_type": "code",
   "execution_count": 4,
   "metadata": {},
   "outputs": [
    {
     "data": {
      "text/plain": [
       "(70000,)"
      ]
     },
     "execution_count": 4,
     "metadata": {},
     "output_type": "execute_result"
    }
   ],
   "source": [
    "mnist.target.shape"
   ]
  },
  {
   "cell_type": "code",
   "execution_count": 5,
   "metadata": {},
   "outputs": [
    {
     "data": {
      "text/plain": [
       "Text(0.5,1,'Frequency of each digit in the entire MNIST dataset')"
      ]
     },
     "execution_count": 5,
     "metadata": {},
     "output_type": "execute_result"
    },
    {
     "data": {
      "image/png": "[encoded data removed]",
      "text/plain": [
       "<matplotlib.figure.Figure at 0x17cf417c940>"
      ]
     },
     "metadata": {},
     "output_type": "display_data"
    }
   ],
   "source": [
    "target = mnist.target\n",
    "sns.countplot(target)\n",
    "plt.title('Frequency of each digit in the entire MNIST dataset')"
   ]
  },
  {
   "cell_type": "markdown",
   "metadata": {},
   "source": [
    "The target values are currently a single floating point number from 0.0 to 9.0 per example. Generally for multi-class classification with neural networks we need this in one-hot format so we will need to convert the data later.\n",
    "\n",
    "Looking at the count of each digit, we can see that the classes are fairly even and therefore the majority class classifier will perform very poorly (~10%). We should be able to beat this very handily with our CNN.\n",
    "\n",
    "Let's take a look at the images by reshaping them:"
   ]
  },
  {
   "cell_type": "code",
   "execution_count": 6,
   "metadata": {},
   "outputs": [
    {
     "data": {
      "text/plain": [
       "(70000, 28, 28, 1)"
      ]
     },
     "execution_count": 6,
     "metadata": {},
     "output_type": "execute_result"
    }
   ],
   "source": [
    "#reshape the pixel data to have shape (70000, 28, 28, 1)\n",
    "pixel_data = pixel_data.reshape((pixel_data.shape[0],28,28,1))\n",
    "pixel_data.shape"
   ]
  },
  {
   "cell_type": "code",
   "execution_count": 7,
   "metadata": {},
   "outputs": [
    {
     "data": {
      "text/plain": [
       "<matplotlib.image.AxesImage at 0x17cfe04d860>"
      ]
     },
     "execution_count": 7,
     "metadata": {},
     "output_type": "execute_result"
    },
    {
     "data": {
      "image/png": "[encoded data removed]",
      "text/plain": [
       "<matplotlib.figure.Figure at 0x17cfdf82240>"
      ]
     },
     "metadata": {},
     "output_type": "display_data"
    }
   ],
   "source": [
    "#take a look at the image at index 10,000\n",
    "plt.imshow(pixel_data[10000,:,:,0], cmap='gray')"
   ]
  },
  {
   "cell_type": "code",
   "execution_count": 8,
   "metadata": {},
   "outputs": [
    {
     "name": "stdout",
     "output_type": "stream",
     "text": [
      "1.0\n"
     ]
    }
   ],
   "source": [
    "#and print the associated target\n",
    "print(str(target[10000]))"
   ]
  },
  {
   "cell_type": "markdown",
   "metadata": {},
   "source": [
    "Our images are now in the correct format and the label is correct for the image above so we can now split our data into training and testing sets."
   ]
  },
  {
   "cell_type": "code",
   "execution_count": 9,
   "metadata": {
    "collapsed": true
   },
   "outputs": [],
   "source": [
    "from sklearn.model_selection import train_test_split"
   ]
  },
  {
   "cell_type": "code",
   "execution_count": 10,
   "metadata": {
    "collapsed": true
   },
   "outputs": [],
   "source": [
    "#use 80% of the data in the training set and keep 20% back for testing purposes\n",
    "X_train, X_test, Y_train, Y_test = train_test_split(pixel_data, target, test_size=0.2, random_state=1)"
   ]
  },
  {
   "cell_type": "code",
   "execution_count": 11,
   "metadata": {},
   "outputs": [
    {
     "data": {
      "text/plain": [
       "(56000, 28, 28, 1)"
      ]
     },
     "execution_count": 11,
     "metadata": {},
     "output_type": "execute_result"
    }
   ],
   "source": [
    "#check the new shape of our training data\n",
    "X_train.shape"
   ]
  },
  {
   "cell_type": "markdown",
   "metadata": {},
   "source": [
    "## 2. Building the Neural Network with Keras <a class=\"anchor\" id=\"second-bullet\"></a>\n",
    "\n",
    "### Convolutions\n",
    "A Convolution is the process of passing a filter over consecutive sections of an image to produce an output.\n",
    "\n",
    "<img src='https://s3-eu-west-1.amazonaws.com/com.cambridgespark.content/tutorials/convolutional-neural-networks-with-keras/figures/convolve.png' style=\"max-width:80%;\">\n",
    "Credit to https://cambridgespark.com/ for the image\n",
    "\n",
    "The original image is represented on the left, the filter is the blue matrix and the output of the convolution is on the right. The green cell in the output matrix comes from the sum of the element wise products of the filter with the red section of the input matrix. The size of the output matrix depends on the size of the input, the size of the filter, the **stride** (which is essentially how far the filter moves across the input matrix in each step) and the **padding** (which is empty cells added around the input matrix to get specific shape outputs). The size of the output is defined by the following formula:\n",
    "\n",
    "\\begin{equation*}\n",
    "W_{out} = \\frac{W_{in} - F + 2P}{S} + 1\n",
    "\\end{equation*}\n",
    "\n",
    "Where $F$ is the size of the filter e.g. F = 3 for a 3x3 filter, $P$ is the number of padding pixels added to each dimension of the input and $S$ is the stride. This formula works for both height and width.\n",
    "\n",
    "If we didn't use any padding, the output would be smaller than the input. For this reason we use what is called 'same' padding, where we add enough padding to keep the input and output dimensions equal.\n",
    "\n",
    "### Pooling\n",
    "Pooling layers are used to reduce the dimensions of the image between convolutions. This is needed because if the images stayed the same size throughout the network the number of learnable paramaters would get very large. \n",
    "\n",
    "<img src='https://cdn-images-1.medium.com/max/800/1*C0EwU0aknuliOsGktK6U0g.png' style=\"max-width:80%;\">\n",
    "Credit to https://medium.com/data-science-group-iitr for the image\n",
    "\n",
    "Pooling works by applying an aggregating function to a section of the input. In the example above, a 2x2 filter is passed over the input with a stride of 2. This means that none of the areas overlap and the output dimensions are exactly half of the input dimensions. \n",
    "\n",
    "The 2 most common aggregating functions applied by Pooling layers are **max** and **average**. Max pooling simply takes the maximum value from each 2x2 section of the input and puts it in the corresponding cell of the output, whilst Average pooling takes the average value of the 2x2 section instead. \n",
    "\n",
    "### Fully-connected layers\n",
    "A fully-connected/dense layer is simply a layer in which all of the input values are connected to each of the hidden units in the layer. This is a standard Neural Network layer.\n",
    "\n",
    "### Dropout layers\n",
    "A dropout layer connects 2 layers and has a defined dropout rate. During training, each of the connections has a chance of being ignored (weight on the connection set to zero) equal to the dropout rate. This means that the network cannot heavily rely on a particular connection to produce it's outputs. The weights are more evenly shared across the network and this reduces overfitting.\n",
    "\n",
    "### Softmax layers\n",
    "A softmax layer is used for classification problems. It takes the scores computed by the rest of the network and normalizes them to probabilities such that the sum of the probabilities for each class for a particular example are equal to 1. For a softmax layer with K hidden units, each hidden unit has a score $z_{k}$ and the activation (read: probability) output by each unit is: \n",
    "\n",
    "\\begin{equation*}\n",
    "\\frac{e^{z_{k}}}{\\sum_{k=1}^{K} e^{z_{k}}}\n",
    "\\end{equation*}\n",
    "\n",
    "### Architecture of our CNN:\n",
    "* Convolutional layer, 32 5x5 filters and 'same' padding. For each 28x28x1 image input we get a 28x28x32 tensor. ReLU activation.\n",
    "* Max pooling layer, 2x2 filter, results in a 14x14x32 tensor for each image.\n",
    "* Convolutional layer, 64 5x5(x32) filters and 'same' padding. For each 14x14x32 input we get a 14x14x64 tensor. ReLU activation.\n",
    "* Max pooling layer, 2x2 filter, results in a 7x7x64 tensor for each image.\n",
    "* Flatten the output into a single dimension of 7x7x64 = 3136.\n",
    "* Dense layer with 1024 hidden units, output has length 1024. ReLU activation.\n",
    "* Dropout layer to avoid overfitting, rate=0.4 i.e. for each training batch, every hidden unit output has a 40% chance of being dropped.\n",
    "* Dense layer with 10 hidden units and Softmax activation that converts the 10 outputs into probabilities for each class."
   ]
  },
  {
   "cell_type": "code",
   "execution_count": 12,
   "metadata": {},
   "outputs": [
    {
     "name": "stderr",
     "output_type": "stream",
     "text": [
      "Using TensorFlow backend.\n"
     ]
    }
   ],
   "source": [
    "from keras.layers import Input, Dense, Conv2D, MaxPooling2D, Flatten, Dropout\n",
    "from keras.models import Model\n",
    "from keras.optimizers import SGD"
   ]
  },
  {
   "cell_type": "code",
   "execution_count": 13,
   "metadata": {
    "collapsed": true
   },
   "outputs": [],
   "source": [
    "#input layer\n",
    "inputs = Input(shape=(28,28,1))\n",
    "\n",
    "#first conv and pool\n",
    "x = Conv2D(32, kernel_size=5, padding='same', activation='relu')(inputs)\n",
    "x = MaxPooling2D(pool_size=(2,2), strides=2 )(x)\n",
    "\n",
    "#second conv and pool\n",
    "x = Conv2D(64, kernel_size=5, padding='same', activation='relu')(x)\n",
    "x = MaxPooling2D(pool_size=(2,2), strides=2)(x)\n",
    "\n",
    "#flatten, dense and dropout layers\n",
    "x = Flatten()(x)\n",
    "x = Dense(1024, activation='relu')(x)\n",
    "x = Dropout(0.4)(x)\n",
    "\n",
    "#softmax layers\n",
    "predictions = Dense(10, activation = 'softmax' )(x)\n",
    "\n",
    "#define and compile model with Stochastic Gradient Descent optimizer\n",
    "model = Model(inputs=inputs, outputs=predictions)\n",
    "\n",
    "opt = SGD(lr=0.001)\n",
    "\n",
    "model.compile(optimizer=opt,\n",
    "              loss='categorical_crossentropy',\n",
    "              metrics=['accuracy'])"
   ]
  },
  {
   "cell_type": "markdown",
   "metadata": {},
   "source": [
    "The loss function we have used is categorical cross-entropy. For a single training example with one-hot label vector $y$ and predicted probability vector for each class $p$ the cost defined by the following equation:\n",
    "\n",
    "\\begin{equation*}\n",
    "-\\sum_{c=1}^{M} y_{o, c} \\log{p_{o, c}}\n",
    "\\end{equation*}\n",
    "\n",
    "Where M is the number of classes, and $p_{o, c}$ is the probability predicted for observation $o$ for class $c$.\n",
    "\n",
    "Let's feed an input image into the network and check the shape of the output so that we can convert our labels to the correct format."
   ]
  },
  {
   "cell_type": "code",
   "execution_count": 15,
   "metadata": {},
   "outputs": [
    {
     "name": "stdout",
     "output_type": "stream",
     "text": [
      "[[  1.55023879e-26   4.98738154e-05   7.22989171e-07   9.74239023e-11\n",
      "    1.66462082e-29   9.99949455e-01   3.94156964e-19   2.06563839e-24\n",
      "    3.44584417e-10   1.93107588e-13]]\n",
      "(1, 10)\n"
     ]
    }
   ],
   "source": [
    "print(model.predict(X_train[0:1,...]))\n",
    "print(model.predict(X_train[0:1,...]).shape)"
   ]
  },
  {
   "cell_type": "markdown",
   "metadata": {},
   "source": [
    "Output is a one-hot vector with length 10, we need to convert our Y_train and Y_test vectors to be one-hot."
   ]
  },
  {
   "cell_type": "code",
   "execution_count": 16,
   "metadata": {},
   "outputs": [
    {
     "data": {
      "text/plain": [
       "(56000, 10)"
      ]
     },
     "execution_count": 16,
     "metadata": {},
     "output_type": "execute_result"
    }
   ],
   "source": [
    "Y_train = np.eye(10)[Y_train.astype(int)]\n",
    "Y_test = np.eye(10)[Y_test.astype(int)]\n",
    "Y_train.shape"
   ]
  },
  {
   "cell_type": "code",
   "execution_count": 17,
   "metadata": {},
   "outputs": [
    {
     "name": "stdout",
     "output_type": "stream",
     "text": [
      "Train on 50400 samples, validate on 5600 samples\n",
      "Epoch 1/15\n",
      "50400/50400 [==============================] - 16s 321us/step - loss: 1.1743 - acc: 0.8545 - val_loss: 0.1154 - val_acc: 0.9637\n",
      "Epoch 2/15\n",
      "50400/50400 [==============================] - 16s 314us/step - loss: 0.1564 - acc: 0.9529 - val_loss: 0.0883 - val_acc: 0.9734\n",
      "Epoch 3/15\n",
      "50400/50400 [==============================] - 16s 310us/step - loss: 0.1121 - acc: 0.9645 - val_loss: 0.0710 - val_acc: 0.9788\n",
      "Epoch 4/15\n",
      "50400/50400 [==============================] - 16s 316us/step - loss: 0.0916 - acc: 0.9718 - val_loss: 0.0636 - val_acc: 0.9793\n",
      "Epoch 5/15\n",
      "50400/50400 [==============================] - 16s 311us/step - loss: 0.0771 - acc: 0.9762 - val_loss: 0.0596 - val_acc: 0.9804\n",
      "Epoch 6/15\n",
      "50400/50400 [==============================] - 15s 306us/step - loss: 0.0682 - acc: 0.9783 - val_loss: 0.0517 - val_acc: 0.9834\n",
      "Epoch 7/15\n",
      "50400/50400 [==============================] - 16s 308us/step - loss: 0.0605 - acc: 0.9808 - val_loss: 0.0510 - val_acc: 0.9845\n",
      "Epoch 8/15\n",
      "50400/50400 [==============================] - 16s 312us/step - loss: 0.0539 - acc: 0.9828 - val_loss: 0.0496 - val_acc: 0.9846\n",
      "Epoch 9/15\n",
      "50400/50400 [==============================] - 16s 310us/step - loss: 0.0480 - acc: 0.9848 - val_loss: 0.0485 - val_acc: 0.9852\n",
      "Epoch 10/15\n",
      "50400/50400 [==============================] - 16s 310us/step - loss: 0.0439 - acc: 0.9861 - val_loss: 0.0459 - val_acc: 0.9855\n",
      "Epoch 11/15\n",
      "50400/50400 [==============================] - 16s 312us/step - loss: 0.0417 - acc: 0.9865 - val_loss: 0.0456 - val_acc: 0.9861\n",
      "Epoch 12/15\n",
      "50400/50400 [==============================] - 16s 313us/step - loss: 0.0391 - acc: 0.9876 - val_loss: 0.0441 - val_acc: 0.9871\n",
      "Epoch 13/15\n",
      "50400/50400 [==============================] - 16s 311us/step - loss: 0.0356 - acc: 0.9887 - val_loss: 0.0439 - val_acc: 0.9870\n",
      "Epoch 14/15\n",
      "50400/50400 [==============================] - 16s 314us/step - loss: 0.0310 - acc: 0.9896 - val_loss: 0.0416 - val_acc: 0.9870\n",
      "Epoch 15/15\n",
      "50400/50400 [==============================] - 16s 309us/step - loss: 0.0314 - acc: 0.9895 - val_loss: 0.0407 - val_acc: 0.9875\n"
     ]
    }
   ],
   "source": [
    "hist = model.fit(x=X_train, y=Y_train, batch_size=64, epochs=15, validation_split=0.1)"
   ]
  },
  {
   "cell_type": "code",
   "execution_count": 18,
   "metadata": {},
   "outputs": [
    {
     "name": "stdout",
     "output_type": "stream",
     "text": [
      "14000/14000 [==============================] - 3s 212us/step\n"
     ]
    },
    {
     "data": {
      "text/plain": [
       "[0.039269620979304559, 0.98792857142857138]"
      ]
     },
     "execution_count": 18,
     "metadata": {},
     "output_type": "execute_result"
    }
   ],
   "source": [
    "model.evaluate(x=X_test, y=Y_test)"
   ]
  },
  {
   "cell_type": "markdown",
   "metadata": {},
   "source": [
    "We are accurately classifying 98.8% of of the test set which is extremely good. Let's take a look at the training history."
   ]
  },
  {
   "cell_type": "code",
   "execution_count": 19,
   "metadata": {},
   "outputs": [
    {
     "data": {
      "text/plain": [
       "<matplotlib.legend.Legend at 0x17c97f725c0>"
      ]
     },
     "execution_count": 19,
     "metadata": {},
     "output_type": "execute_result"
    },
    {
     "data": {
      "image/png": "[encoded data removed]",
      "text/plain": [
       "<matplotlib.figure.Figure at 0x17c97f8aa58>"
      ]
     },
     "metadata": {},
     "output_type": "display_data"
    }
   ],
   "source": [
    "plt.plot(hist.history['acc'], label='Training')\n",
    "plt.plot(hist.history['val_acc'], label='Validation')\n",
    "plt.xlabel('# Training epochs')\n",
    "plt.ylabel('Accuracy')\n",
    "plt.title('Progression of model accuracy with # epochs trained')\n",
    "plt.legend()"
   ]
  },
  {
   "cell_type": "markdown",
   "metadata": {},
   "source": [
    "We can see that we are not overfitting to the training set because the validation set accuracy is still increasing slightly. If we were overfitting then we would expect the validation accuracy to begin to drop. If this were a production network we would continue training until the validation accuracy reaches a maximum, however for the purposes of this notebook we will stop here and look at the sources of error in the model.\n",
    "\n",
    "## 3. Sources of Error <a class=\"anchor\" id=\"third-bullet\"></a>\n",
    "\n",
    "Let's take a look at the confusion matrix for this models predictions."
   ]
  },
  {
   "cell_type": "code",
   "execution_count": 20,
   "metadata": {
    "collapsed": true
   },
   "outputs": [],
   "source": [
    "prediction_probs = model.predict(X_test)"
   ]
  },
  {
   "cell_type": "code",
   "execution_count": 21,
   "metadata": {
    "collapsed": true
   },
   "outputs": [],
   "source": [
    "predictions = np.where(prediction_probs > 0.5, 1, 0)"
   ]
  },
  {
   "cell_type": "code",
   "execution_count": 22,
   "metadata": {},
   "outputs": [
    {
     "data": {
      "text/plain": [
       "array([0, 1, 0, 0, 0, 0, 0, 0, 0, 0])"
      ]
     },
     "execution_count": 22,
     "metadata": {},
     "output_type": "execute_result"
    }
   ],
   "source": [
    "predictions[0]"
   ]
  },
  {
   "cell_type": "code",
   "execution_count": 23,
   "metadata": {
    "collapsed": true
   },
   "outputs": [],
   "source": [
    "from sklearn.metrics import confusion_matrix"
   ]
  },
  {
   "cell_type": "code",
   "execution_count": 24,
   "metadata": {},
   "outputs": [
    {
     "data": {
      "text/plain": [
       "array([[1378,    0,    1,    1,    0,    0,    1,    0,    4,    0],\n",
       "       [   0, 1615,    6,    2,    0,    0,    1,    4,    1,    0],\n",
       "       [   5,    3, 1427,    1,    0,    0,    1,    1,    2,    1],\n",
       "       [   5,    0,    2, 1407,    0,    7,    0,    1,    6,    3],\n",
       "       [   3,    4,    1,    0, 1313,    0,    0,    0,    1,    9],\n",
       "       [   4,    0,    0,    4,    0, 1219,    1,    0,    1,    0],\n",
       "       [   5,    1,    0,    1,    2,    4, 1382,    0,    2,    0],\n",
       "       [   7,    2,    5,    1,    1,    0,    0, 1449,    2,    8],\n",
       "       [   6,    2,    3,    3,    0,    2,    4,    1, 1319,    3],\n",
       "       [   6,    1,    0,    1,   11,    3,    0,    5,    2, 1310]], dtype=int64)"
      ]
     },
     "execution_count": 24,
     "metadata": {},
     "output_type": "execute_result"
    }
   ],
   "source": [
    "confusion_matrix(Y_test.argmax(axis=1), predictions.argmax(axis=1))"
   ]
  },
  {
   "cell_type": "markdown",
   "metadata": {},
   "source": [
    "In a confusion matrix, the leading diagonal represents the correctly classified examples. The rows are the true labels and the columns are the predicted labels. For example, the cell [3,3] would be the value corresponding to examples of digit 3 that were correctly classified as digit 3.\n",
    "\n",
    "The off-diagonal cells represent incorrect classifications, and by looking at the values we can see if there are any classes that are consistently mixed up by the model.\n",
    "\n",
    "Cell [9,4] has the highest value of the off-diagonal cells. Cell [9,4] represents examples of digit 9 that were predicted to be digit 4. We can see that both digits consist of a closed loop at the top with a tail at the bottom, so it is again easy to see how they could be mixed up. Let's take a look at the misclassified examples of these 2 cells."
   ]
  },
  {
   "cell_type": "code",
   "execution_count": 26,
   "metadata": {},
   "outputs": [
    {
     "data": {
      "image/png": "[encoded data removed]",
      "text/plain": [
       "<matplotlib.figure.Figure at 0x17c8e451dd8>"
      ]
     },
     "metadata": {},
     "output_type": "display_data"
    }
   ],
   "source": [
    "nine_as_four = X_test[(Y_test.argmax(axis=1) == 9) & (predictions.argmax(axis=1) == 4)]\n",
    "fig, axes = plt.subplots(len(nine_as_four)//3 + 1, 3, figsize=(10, 16))\n",
    "\n",
    "for i in range(len(nine_as_four)):\n",
    "    axes.ravel()[i].imshow(nine_as_four[i, :, :, 0], cmap='gray')"
   ]
  },
  {
   "cell_type": "markdown",
   "metadata": {},
   "source": [
    "Personally, I would have guessed that some of these were actually 4's if I were given the task of classifying them. For a 9, we expect a closed upper loop which is not the case for many of these examples. Let's take a quick look at the probabilities predicted for the misclassified 9's."
   ]
  },
  {
   "cell_type": "code",
   "execution_count": 27,
   "metadata": {},
   "outputs": [
    {
     "name": "stdout",
     "output_type": "stream",
     "text": [
      "Probability of a 4 . . . . . . . Probability of a 9\n",
      ". .  0.845356 . . . . . . . . . . . .  0.15464\n",
      ". .  0.772014 . . . . . . . . . . . .  0.227547\n",
      ". .  0.929853 . . . . . . . . . . . .  0.0700139\n",
      ". .  0.643329 . . . . . . . . . . . .  0.301386\n",
      ". .  0.765154 . . . . . . . . . . . .  0.234022\n",
      ". .  0.886618 . . . . . . . . . . . .  0.107672\n",
      ". .  0.721242 . . . . . . . . . . . .  0.277797\n",
      ". .  0.918991 . . . . . . . . . . . .  0.0805907\n",
      ". .  0.771231 . . . . . . . . . . . .  0.228758\n",
      ". .  0.544733 . . . . . . . . . . . .  0.0846578\n",
      ". .  0.71659 . . . . . . . . . . . .  0.282303\n"
     ]
    }
   ],
   "source": [
    "print('Probability of a 4 . . . . . . . Probability of a 9')\n",
    "for array in prediction_probs[(Y_test.argmax(axis=1) == 9) & (predictions.argmax(axis=1) == 4)]:\n",
    "    print('. . ' , array[4],'. . . . . . . . . . . . ', array[9])"
   ]
  },
  {
   "cell_type": "markdown",
   "metadata": {},
   "source": [
    "Because these were all predicted to be 4's we know that the left hand column will always be over 0.5. We can see that there were 2 instances where the probability of a 4 was above 0.9 whilst the rest had some reasonable doubt. Particularly the second to last instance which was only 54% sure that the digit was a 4."
   ]
  },
  {
   "cell_type": "markdown",
   "metadata": {},
   "source": [
    "## 4. Conclusions <a class=\"anchor\" id=\"fourth-bullet\"></a>\n",
    "* We have seen that a simple Convolutional Neural Network with 2 convolutional layers and 1 fully-connected layer was able to recognise hand-written digits with an accuracy of 98.7%. \n",
    "* We have also seen that a lot of the misclassified examples in the test set were poorly written/ambiguous, so it is unlikely that we would get much better performance by tweaking the network architecture.\n",
    "* Because all of the classes are reasonably evenly represented, a random choice model would only score roughly 10% accuracy (because there are 10 classes). We have improved upon this significantly."
   ]
  }
 ],
 "metadata": {
  "kernelspec": {
   "display_name": "Python 3",
   "language": "python",
   "name": "python3"
  },
  "language_info": {
   "codemirror_mode": {
    "name": "ipython",
    "version": 3
   },
   "file_extension": ".py",
   "mimetype": "text/x-python",
   "name": "python",
   "nbconvert_exporter": "python",
   "pygments_lexer": "ipython3",
   "version": "3.6.3"
  }
 },
 "nbformat": 4,
 "nbformat_minor": 2
}
