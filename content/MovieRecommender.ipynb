{
 "cells": [
  {
   "cell_type": "markdown",
   "metadata": {},
   "source": [
    "Recommender Systems are a huge part of our daily lives and are used in almost all online services in one form or another. They are used to suggest things we might like to buy, movies we might like to watch and people that we might like to add to our social network.\n",
    "\n",
    "The benefits of Recommender Systems are two-fold. Firstly, from a customer/user perspective, getting accurate recommendations will mean that less time is spent searching for the correct item/time is not wasted on incorrect items, which improves the user experience. From a service-provider perspective, users are more likely to interact if the user experience is good. More accurate recommendations lead to more interactions and usually to higher revenue.\n",
    "\n",
    "In this notebook I will be exploring the [MovieLens dataset](https://grouplens.org/datasets/movielens/), a repository of over 26,000,000 movie ratings given to 45,000 movies by 270,000 users. Many thanks to them for collecting this data and making it available to the public.\n",
    "\n",
    "\n",
    "## This notebook contains the following content:\n",
    "* [1. Data Exploration](#first-bullet)\n",
    "* [2. Building the Recommender System](#second-bullet)\n",
    "* [3. Improvements/Further Work](#third-bullet)\n",
    "\n",
    "## 1. Data Exploration <a class=\"anchor\" id=\"first-bullet\"></a>\n",
    "It is always important to understand the data before we dive into model building. We can even potentially get interesting information from simple plots & analysis. The first step is to import the data and look at the rows/columns present:"
   ]
  },
  {
   "cell_type": "code",
   "execution_count": 1,
   "metadata": {
    "collapsed": true
   },
   "outputs": [],
   "source": [
    "import pandas as pd\n",
    "import numpy as np\n",
    "import seaborn as sns\n",
    "import matplotlib.pyplot as plt\n",
    "\n",
    "%matplotlib inline"
   ]
  },
  {
   "cell_type": "code",
   "execution_count": 2,
   "metadata": {
    "collapsed": true
   },
   "outputs": [],
   "source": [
    "ratings = pd.read_csv('Movie Recommender/ratings.csv')\n",
    "movies = pd.read_csv('Movie Recommender/movies.csv')"
   ]
  },
  {
   "cell_type": "code",
   "execution_count": 3,
   "metadata": {},
   "outputs": [
    {
     "data": {
      "text/html": [
       "<div>\n",
       "<style>\n",
       "    .dataframe thead tr:only-child th {\n",
       "        text-align: right;\n",
       "    }\n",
       "\n",
       "    .dataframe thead th {\n",
       "        text-align: left;\n",
       "    }\n",
       "\n",
       "    .dataframe tbody tr th {\n",
       "        vertical-align: top;\n",
       "    }\n",
       "</style>\n",
       "<table border=\"1\" class=\"dataframe\">\n",
       "  <thead>\n",
       "    <tr style=\"text-align: right;\">\n",
       "      <th></th>\n",
       "      <th>userId</th>\n",
       "      <th>movieId</th>\n",
       "      <th>rating</th>\n",
       "      <th>timestamp</th>\n",
       "    </tr>\n",
       "  </thead>\n",
       "  <tbody>\n",
       "    <tr>\n",
       "      <th>0</th>\n",
       "      <td>1</td>\n",
       "      <td>110</td>\n",
       "      <td>1.0</td>\n",
       "      <td>1425941529</td>\n",
       "    </tr>\n",
       "    <tr>\n",
       "      <th>1</th>\n",
       "      <td>1</td>\n",
       "      <td>147</td>\n",
       "      <td>4.5</td>\n",
       "      <td>1425942435</td>\n",
       "    </tr>\n",
       "    <tr>\n",
       "      <th>2</th>\n",
       "      <td>1</td>\n",
       "      <td>858</td>\n",
       "      <td>5.0</td>\n",
       "      <td>1425941523</td>\n",
       "    </tr>\n",
       "    <tr>\n",
       "      <th>3</th>\n",
       "      <td>1</td>\n",
       "      <td>1221</td>\n",
       "      <td>5.0</td>\n",
       "      <td>1425941546</td>\n",
       "    </tr>\n",
       "    <tr>\n",
       "      <th>4</th>\n",
       "      <td>1</td>\n",
       "      <td>1246</td>\n",
       "      <td>5.0</td>\n",
       "      <td>1425941556</td>\n",
       "    </tr>\n",
       "  </tbody>\n",
       "</table>\n",
       "</div>"
      ],
      "text/plain": [
       "   userId  movieId  rating   timestamp\n",
       "0       1      110     1.0  1425941529\n",
       "1       1      147     4.5  1425942435\n",
       "2       1      858     5.0  1425941523\n",
       "3       1     1221     5.0  1425941546\n",
       "4       1     1246     5.0  1425941556"
      ]
     },
     "execution_count": 3,
     "metadata": {},
     "output_type": "execute_result"
    }
   ],
   "source": [
    "ratings.head()"
   ]
  },
  {
   "cell_type": "code",
   "execution_count": 4,
   "metadata": {},
   "outputs": [
    {
     "data": {
      "text/html": [
       "<div>\n",
       "<style>\n",
       "    .dataframe thead tr:only-child th {\n",
       "        text-align: right;\n",
       "    }\n",
       "\n",
       "    .dataframe thead th {\n",
       "        text-align: left;\n",
       "    }\n",
       "\n",
       "    .dataframe tbody tr th {\n",
       "        vertical-align: top;\n",
       "    }\n",
       "</style>\n",
       "<table border=\"1\" class=\"dataframe\">\n",
       "  <thead>\n",
       "    <tr style=\"text-align: right;\">\n",
       "      <th></th>\n",
       "      <th>movieId</th>\n",
       "      <th>title</th>\n",
       "      <th>genres</th>\n",
       "    </tr>\n",
       "  </thead>\n",
       "  <tbody>\n",
       "    <tr>\n",
       "      <th>0</th>\n",
       "      <td>1</td>\n",
       "      <td>Toy Story (1995)</td>\n",
       "      <td>Adventure|Animation|Children|Comedy|Fantasy</td>\n",
       "    </tr>\n",
       "    <tr>\n",
       "      <th>1</th>\n",
       "      <td>2</td>\n",
       "      <td>Jumanji (1995)</td>\n",
       "      <td>Adventure|Children|Fantasy</td>\n",
       "    </tr>\n",
       "    <tr>\n",
       "      <th>2</th>\n",
       "      <td>3</td>\n",
       "      <td>Grumpier Old Men (1995)</td>\n",
       "      <td>Comedy|Romance</td>\n",
       "    </tr>\n",
       "    <tr>\n",
       "      <th>3</th>\n",
       "      <td>4</td>\n",
       "      <td>Waiting to Exhale (1995)</td>\n",
       "      <td>Comedy|Drama|Romance</td>\n",
       "    </tr>\n",
       "    <tr>\n",
       "      <th>4</th>\n",
       "      <td>5</td>\n",
       "      <td>Father of the Bride Part II (1995)</td>\n",
       "      <td>Comedy</td>\n",
       "    </tr>\n",
       "  </tbody>\n",
       "</table>\n",
       "</div>"
      ],
      "text/plain": [
       "   movieId                               title  \\\n",
       "0        1                    Toy Story (1995)   \n",
       "1        2                      Jumanji (1995)   \n",
       "2        3             Grumpier Old Men (1995)   \n",
       "3        4            Waiting to Exhale (1995)   \n",
       "4        5  Father of the Bride Part II (1995)   \n",
       "\n",
       "                                        genres  \n",
       "0  Adventure|Animation|Children|Comedy|Fantasy  \n",
       "1                   Adventure|Children|Fantasy  \n",
       "2                               Comedy|Romance  \n",
       "3                         Comedy|Drama|Romance  \n",
       "4                                       Comedy  "
      ]
     },
     "execution_count": 4,
     "metadata": {},
     "output_type": "execute_result"
    }
   ],
   "source": [
    "movies.head()"
   ]
  },
  {
   "cell_type": "code",
   "execution_count": 5,
   "metadata": {},
   "outputs": [
    {
     "name": "stdout",
     "output_type": "stream",
     "text": [
      "<class 'pandas.core.frame.DataFrame'>\n",
      "RangeIndex: 26024289 entries, 0 to 26024288\n",
      "Data columns (total 4 columns):\n",
      "userId       int64\n",
      "movieId      int64\n",
      "rating       float64\n",
      "timestamp    int64\n",
      "dtypes: float64(1), int64(3)\n",
      "memory usage: 794.2 MB\n"
     ]
    }
   ],
   "source": [
    "ratings.info()"
   ]
  },
  {
   "cell_type": "code",
   "execution_count": 6,
   "metadata": {},
   "outputs": [
    {
     "name": "stdout",
     "output_type": "stream",
     "text": [
      "<class 'pandas.core.frame.DataFrame'>\n",
      "RangeIndex: 45843 entries, 0 to 45842\n",
      "Data columns (total 3 columns):\n",
      "movieId    45843 non-null int64\n",
      "title      45843 non-null object\n",
      "genres     45843 non-null object\n",
      "dtypes: int64(1), object(2)\n",
      "memory usage: 1.0+ MB\n"
     ]
    }
   ],
   "source": [
    "movies.info()"
   ]
  },
  {
   "cell_type": "markdown",
   "metadata": {},
   "source": [
    "The ratings dataframe contains the userId of the user giving the rating, the movieId of the movie being rated, the rating (ranges from 0.5 - 5 in increments of 0.5) and a timestamp of when the rating was given. There are over 26 million rows and no missing values.\n",
    "\n",
    "The movies dataframe contains the movieId, title and a '|' delimited list of genres for each movie. There are over 45,000 rows and no missing values.\n",
    "\n",
    "So far, so good. Let's look at the unique occurences of users and movies."
   ]
  },
  {
   "cell_type": "code",
   "execution_count": 7,
   "metadata": {},
   "outputs": [
    {
     "name": "stdout",
     "output_type": "stream",
     "text": [
      "There are 270896 unique users.\n",
      "There are 45115 unique movies.\n"
     ]
    }
   ],
   "source": [
    "n_users=(ratings.userId.nunique()) # number of unique reviewers\n",
    "n_movies=(ratings.movieId.nunique()) # number of unique movies\n",
    "print('There are ' + str(n_users) + ' unique users.')\n",
    "print('There are ' + str(n_movies) + ' unique movies.')"
   ]
  },
  {
   "cell_type": "code",
   "execution_count": 8,
   "metadata": {},
   "outputs": [
    {
     "name": "stdout",
     "output_type": "stream",
     "text": [
      "Max userID is 270896\n",
      "Max movieID is 176275\n"
     ]
    }
   ],
   "source": [
    "max_userId = ratings.userId.max() # maximum value of userID\n",
    "max_movieId = ratings.movieId.max() # maximum value of movieId\n",
    "print('Max userID is ' + str(max_userId))\n",
    "print('Max movieID is ' + str(max_movieId))"
   ]
  },
  {
   "cell_type": "markdown",
   "metadata": {},
   "source": [
    "Note that the number of unique movies rated is less than the total number of movies with Id's, and also the maximum movie Id is much higher than the number of unique movies. This means that the movieId's are not consecutive numbers, and there are some movies without any ratings.\n",
    "\n",
    "Let's see how the ratings are distributed."
   ]
  },
  {
   "cell_type": "code",
   "execution_count": 9,
   "metadata": {},
   "outputs": [
    {
     "data": {
      "image/png": "[encoded data removed]",
      "text/plain": [
       "<matplotlib.figure.Figure at 0x271cc7aa9e8>"
      ]
     },
     "metadata": {},
     "output_type": "display_data"
    }
   ],
   "source": [
    "sns.set(font_scale=1.5, style='whitegrid')\n",
    "sns.countplot(ratings['rating'])\n",
    "plt.title('Occurrence counts of different unique ratings', y=1.05)\n",
    "plt.tight_layout()"
   ]
  },
  {
   "cell_type": "markdown",
   "metadata": {},
   "source": [
    "We can see that 4 stars is the most common review score with close to 7m occurrences and 1.5 stars is the least common with 400k occurrences. Interestingly the .5 star intervals have lower frequencies than the integer star values. This could be because users are used to systems that only allow whole star ratings (e.g. Amazon).\n",
    "\n",
    "Let's take a look at the ratings by movie and by genre."
   ]
  },
  {
   "cell_type": "code",
   "execution_count": 10,
   "metadata": {},
   "outputs": [
    {
     "data": {
      "text/html": [
       "<div>\n",
       "<style>\n",
       "    .dataframe thead tr:only-child th {\n",
       "        text-align: right;\n",
       "    }\n",
       "\n",
       "    .dataframe thead th {\n",
       "        text-align: left;\n",
       "    }\n",
       "\n",
       "    .dataframe tbody tr th {\n",
       "        vertical-align: top;\n",
       "    }\n",
       "</style>\n",
       "<table border=\"1\" class=\"dataframe\">\n",
       "  <thead>\n",
       "    <tr style=\"text-align: right;\">\n",
       "      <th></th>\n",
       "      <th>movieId</th>\n",
       "      <th>title</th>\n",
       "      <th>genres</th>\n",
       "      <th>genre_split</th>\n",
       "    </tr>\n",
       "  </thead>\n",
       "  <tbody>\n",
       "    <tr>\n",
       "      <th>0</th>\n",
       "      <td>1</td>\n",
       "      <td>Toy Story (1995)</td>\n",
       "      <td>Adventure|Animation|Children|Comedy|Fantasy</td>\n",
       "      <td>[Adventure, Animation, Children, Comedy, Fantasy]</td>\n",
       "    </tr>\n",
       "    <tr>\n",
       "      <th>1</th>\n",
       "      <td>2</td>\n",
       "      <td>Jumanji (1995)</td>\n",
       "      <td>Adventure|Children|Fantasy</td>\n",
       "      <td>[Adventure, Children, Fantasy]</td>\n",
       "    </tr>\n",
       "    <tr>\n",
       "      <th>2</th>\n",
       "      <td>3</td>\n",
       "      <td>Grumpier Old Men (1995)</td>\n",
       "      <td>Comedy|Romance</td>\n",
       "      <td>[Comedy, Romance]</td>\n",
       "    </tr>\n",
       "    <tr>\n",
       "      <th>3</th>\n",
       "      <td>4</td>\n",
       "      <td>Waiting to Exhale (1995)</td>\n",
       "      <td>Comedy|Drama|Romance</td>\n",
       "      <td>[Comedy, Drama, Romance]</td>\n",
       "    </tr>\n",
       "    <tr>\n",
       "      <th>4</th>\n",
       "      <td>5</td>\n",
       "      <td>Father of the Bride Part II (1995)</td>\n",
       "      <td>Comedy</td>\n",
       "      <td>[Comedy]</td>\n",
       "    </tr>\n",
       "  </tbody>\n",
       "</table>\n",
       "</div>"
      ],
      "text/plain": [
       "   movieId                               title  \\\n",
       "0        1                    Toy Story (1995)   \n",
       "1        2                      Jumanji (1995)   \n",
       "2        3             Grumpier Old Men (1995)   \n",
       "3        4            Waiting to Exhale (1995)   \n",
       "4        5  Father of the Bride Part II (1995)   \n",
       "\n",
       "                                        genres  \\\n",
       "0  Adventure|Animation|Children|Comedy|Fantasy   \n",
       "1                   Adventure|Children|Fantasy   \n",
       "2                               Comedy|Romance   \n",
       "3                         Comedy|Drama|Romance   \n",
       "4                                       Comedy   \n",
       "\n",
       "                                         genre_split  \n",
       "0  [Adventure, Animation, Children, Comedy, Fantasy]  \n",
       "1                     [Adventure, Children, Fantasy]  \n",
       "2                                  [Comedy, Romance]  \n",
       "3                           [Comedy, Drama, Romance]  \n",
       "4                                           [Comedy]  "
      ]
     },
     "execution_count": 10,
     "metadata": {},
     "output_type": "execute_result"
    }
   ],
   "source": [
    "#This splits the delimited genre string into a list of genres\n",
    "movies['genre_split'] = movies['genres'].apply(lambda x: x.split('|'))\n",
    "movies.head()"
   ]
  },
  {
   "cell_type": "code",
   "execution_count": 11,
   "metadata": {},
   "outputs": [
    {
     "data": {
      "text/plain": [
       "['(no genres listed)',\n",
       " 'Action',\n",
       " 'Adventure',\n",
       " 'Animation',\n",
       " 'Children',\n",
       " 'Comedy',\n",
       " 'Crime',\n",
       " 'Documentary',\n",
       " 'Drama',\n",
       " 'Fantasy',\n",
       " 'Film-Noir',\n",
       " 'Horror',\n",
       " 'IMAX',\n",
       " 'Musical',\n",
       " 'Mystery',\n",
       " 'Romance',\n",
       " 'Sci-Fi',\n",
       " 'Thriller',\n",
       " 'War',\n",
       " 'Western']"
      ]
     },
     "execution_count": 11,
     "metadata": {},
     "output_type": "execute_result"
    }
   ],
   "source": [
    "# create a list containing each list of genres\n",
    "genres = list(movies['genre_split'])\n",
    "# flatten the list of lists into a single list with duplicates\n",
    "genres = [item for items in genres for item in items]\n",
    "# convert to set to remove duplicates, then back to list\n",
    "genres = list(set(genres))\n",
    "#sort into alphabetical order\n",
    "genres.sort()\n",
    "genres"
   ]
  },
  {
   "cell_type": "markdown",
   "metadata": {},
   "source": [
    "To explore the genres individually, we would like to create a new column for each genre. On a particular row if the movie was labeled with a genre then the genres column will have a 1, otherwise it will have a zero."
   ]
  },
  {
   "cell_type": "code",
   "execution_count": 12,
   "metadata": {},
   "outputs": [
    {
     "data": {
      "text/html": [
       "<div>\n",
       "<style>\n",
       "    .dataframe thead tr:only-child th {\n",
       "        text-align: right;\n",
       "    }\n",
       "\n",
       "    .dataframe thead th {\n",
       "        text-align: left;\n",
       "    }\n",
       "\n",
       "    .dataframe tbody tr th {\n",
       "        vertical-align: top;\n",
       "    }\n",
       "</style>\n",
       "<table border=\"1\" class=\"dataframe\">\n",
       "  <thead>\n",
       "    <tr style=\"text-align: right;\">\n",
       "      <th></th>\n",
       "      <th>movieId</th>\n",
       "      <th>title</th>\n",
       "      <th>genres</th>\n",
       "      <th>genre_split</th>\n",
       "      <th>(no genres listed)</th>\n",
       "      <th>Action</th>\n",
       "      <th>Adventure</th>\n",
       "      <th>Animation</th>\n",
       "      <th>Children</th>\n",
       "      <th>Comedy</th>\n",
       "      <th>...</th>\n",
       "      <th>Film-Noir</th>\n",
       "      <th>Horror</th>\n",
       "      <th>IMAX</th>\n",
       "      <th>Musical</th>\n",
       "      <th>Mystery</th>\n",
       "      <th>Romance</th>\n",
       "      <th>Sci-Fi</th>\n",
       "      <th>Thriller</th>\n",
       "      <th>War</th>\n",
       "      <th>Western</th>\n",
       "    </tr>\n",
       "  </thead>\n",
       "  <tbody>\n",
       "    <tr>\n",
       "      <th>0</th>\n",
       "      <td>1</td>\n",
       "      <td>Toy Story (1995)</td>\n",
       "      <td>Adventure|Animation|Children|Comedy|Fantasy</td>\n",
       "      <td>[Adventure, Animation, Children, Comedy, Fantasy]</td>\n",
       "      <td>0</td>\n",
       "      <td>0</td>\n",
       "      <td>0</td>\n",
       "      <td>0</td>\n",
       "      <td>0</td>\n",
       "      <td>0</td>\n",
       "      <td>...</td>\n",
       "      <td>0</td>\n",
       "      <td>0</td>\n",
       "      <td>0</td>\n",
       "      <td>0</td>\n",
       "      <td>0</td>\n",
       "      <td>0</td>\n",
       "      <td>0</td>\n",
       "      <td>0</td>\n",
       "      <td>0</td>\n",
       "      <td>0</td>\n",
       "    </tr>\n",
       "    <tr>\n",
       "      <th>1</th>\n",
       "      <td>2</td>\n",
       "      <td>Jumanji (1995)</td>\n",
       "      <td>Adventure|Children|Fantasy</td>\n",
       "      <td>[Adventure, Children, Fantasy]</td>\n",
       "      <td>0</td>\n",
       "      <td>0</td>\n",
       "      <td>0</td>\n",
       "      <td>0</td>\n",
       "      <td>0</td>\n",
       "      <td>0</td>\n",
       "      <td>...</td>\n",
       "      <td>0</td>\n",
       "      <td>0</td>\n",
       "      <td>0</td>\n",
       "      <td>0</td>\n",
       "      <td>0</td>\n",
       "      <td>0</td>\n",
       "      <td>0</td>\n",
       "      <td>0</td>\n",
       "      <td>0</td>\n",
       "      <td>0</td>\n",
       "    </tr>\n",
       "    <tr>\n",
       "      <th>2</th>\n",
       "      <td>3</td>\n",
       "      <td>Grumpier Old Men (1995)</td>\n",
       "      <td>Comedy|Romance</td>\n",
       "      <td>[Comedy, Romance]</td>\n",
       "      <td>0</td>\n",
       "      <td>0</td>\n",
       "      <td>0</td>\n",
       "      <td>0</td>\n",
       "      <td>0</td>\n",
       "      <td>0</td>\n",
       "      <td>...</td>\n",
       "      <td>0</td>\n",
       "      <td>0</td>\n",
       "      <td>0</td>\n",
       "      <td>0</td>\n",
       "      <td>0</td>\n",
       "      <td>0</td>\n",
       "      <td>0</td>\n",
       "      <td>0</td>\n",
       "      <td>0</td>\n",
       "      <td>0</td>\n",
       "    </tr>\n",
       "    <tr>\n",
       "      <th>3</th>\n",
       "      <td>4</td>\n",
       "      <td>Waiting to Exhale (1995)</td>\n",
       "      <td>Comedy|Drama|Romance</td>\n",
       "      <td>[Comedy, Drama, Romance]</td>\n",
       "      <td>0</td>\n",
       "      <td>0</td>\n",
       "      <td>0</td>\n",
       "      <td>0</td>\n",
       "      <td>0</td>\n",
       "      <td>0</td>\n",
       "      <td>...</td>\n",
       "      <td>0</td>\n",
       "      <td>0</td>\n",
       "      <td>0</td>\n",
       "      <td>0</td>\n",
       "      <td>0</td>\n",
       "      <td>0</td>\n",
       "      <td>0</td>\n",
       "      <td>0</td>\n",
       "      <td>0</td>\n",
       "      <td>0</td>\n",
       "    </tr>\n",
       "    <tr>\n",
       "      <th>4</th>\n",
       "      <td>5</td>\n",
       "      <td>Father of the Bride Part II (1995)</td>\n",
       "      <td>Comedy</td>\n",
       "      <td>[Comedy]</td>\n",
       "      <td>0</td>\n",
       "      <td>0</td>\n",
       "      <td>0</td>\n",
       "      <td>0</td>\n",
       "      <td>0</td>\n",
       "      <td>0</td>\n",
       "      <td>...</td>\n",
       "      <td>0</td>\n",
       "      <td>0</td>\n",
       "      <td>0</td>\n",
       "      <td>0</td>\n",
       "      <td>0</td>\n",
       "      <td>0</td>\n",
       "      <td>0</td>\n",
       "      <td>0</td>\n",
       "      <td>0</td>\n",
       "      <td>0</td>\n",
       "    </tr>\n",
       "  </tbody>\n",
       "</table>\n",
       "<p>5 rows × 24 columns</p>\n",
       "</div>"
      ],
      "text/plain": [
       "   movieId                               title  \\\n",
       "0        1                    Toy Story (1995)   \n",
       "1        2                      Jumanji (1995)   \n",
       "2        3             Grumpier Old Men (1995)   \n",
       "3        4            Waiting to Exhale (1995)   \n",
       "4        5  Father of the Bride Part II (1995)   \n",
       "\n",
       "                                        genres  \\\n",
       "0  Adventure|Animation|Children|Comedy|Fantasy   \n",
       "1                   Adventure|Children|Fantasy   \n",
       "2                               Comedy|Romance   \n",
       "3                         Comedy|Drama|Romance   \n",
       "4                                       Comedy   \n",
       "\n",
       "                                         genre_split  (no genres listed)  \\\n",
       "0  [Adventure, Animation, Children, Comedy, Fantasy]                   0   \n",
       "1                     [Adventure, Children, Fantasy]                   0   \n",
       "2                                  [Comedy, Romance]                   0   \n",
       "3                           [Comedy, Drama, Romance]                   0   \n",
       "4                                           [Comedy]                   0   \n",
       "\n",
       "   Action  Adventure  Animation  Children  Comedy   ...     Film-Noir  Horror  \\\n",
       "0       0          0          0         0       0   ...             0       0   \n",
       "1       0          0          0         0       0   ...             0       0   \n",
       "2       0          0          0         0       0   ...             0       0   \n",
       "3       0          0          0         0       0   ...             0       0   \n",
       "4       0          0          0         0       0   ...             0       0   \n",
       "\n",
       "   IMAX  Musical  Mystery  Romance  Sci-Fi  Thriller  War  Western  \n",
       "0     0        0        0        0       0         0    0        0  \n",
       "1     0        0        0        0       0         0    0        0  \n",
       "2     0        0        0        0       0         0    0        0  \n",
       "3     0        0        0        0       0         0    0        0  \n",
       "4     0        0        0        0       0         0    0        0  \n",
       "\n",
       "[5 rows x 24 columns]"
      ]
     },
     "execution_count": 12,
     "metadata": {},
     "output_type": "execute_result"
    }
   ],
   "source": [
    "# add the new columns and initially fill with zeros\n",
    "for genre in genres:\n",
    "    movies[genre] = 0\n",
    "\n",
    "movies.head()"
   ]
  },
  {
   "cell_type": "code",
   "execution_count": 13,
   "metadata": {},
   "outputs": [
    {
     "data": {
      "text/html": [
       "<div>\n",
       "<style>\n",
       "    .dataframe thead tr:only-child th {\n",
       "        text-align: right;\n",
       "    }\n",
       "\n",
       "    .dataframe thead th {\n",
       "        text-align: left;\n",
       "    }\n",
       "\n",
       "    .dataframe tbody tr th {\n",
       "        vertical-align: top;\n",
       "    }\n",
       "</style>\n",
       "<table border=\"1\" class=\"dataframe\">\n",
       "  <thead>\n",
       "    <tr style=\"text-align: right;\">\n",
       "      <th></th>\n",
       "      <th>movieId</th>\n",
       "      <th>title</th>\n",
       "      <th>genres</th>\n",
       "      <th>genre_split</th>\n",
       "      <th>(no genres listed)</th>\n",
       "      <th>Action</th>\n",
       "      <th>Adventure</th>\n",
       "      <th>Animation</th>\n",
       "      <th>Children</th>\n",
       "      <th>Comedy</th>\n",
       "      <th>...</th>\n",
       "      <th>Film-Noir</th>\n",
       "      <th>Horror</th>\n",
       "      <th>IMAX</th>\n",
       "      <th>Musical</th>\n",
       "      <th>Mystery</th>\n",
       "      <th>Romance</th>\n",
       "      <th>Sci-Fi</th>\n",
       "      <th>Thriller</th>\n",
       "      <th>War</th>\n",
       "      <th>Western</th>\n",
       "    </tr>\n",
       "  </thead>\n",
       "  <tbody>\n",
       "    <tr>\n",
       "      <th>0</th>\n",
       "      <td>1</td>\n",
       "      <td>Toy Story (1995)</td>\n",
       "      <td>Adventure|Animation|Children|Comedy|Fantasy</td>\n",
       "      <td>[Adventure, Animation, Children, Comedy, Fantasy]</td>\n",
       "      <td>0</td>\n",
       "      <td>0</td>\n",
       "      <td>1</td>\n",
       "      <td>1</td>\n",
       "      <td>1</td>\n",
       "      <td>1</td>\n",
       "      <td>...</td>\n",
       "      <td>0</td>\n",
       "      <td>0</td>\n",
       "      <td>0</td>\n",
       "      <td>0</td>\n",
       "      <td>0</td>\n",
       "      <td>0</td>\n",
       "      <td>0</td>\n",
       "      <td>0</td>\n",
       "      <td>0</td>\n",
       "      <td>0</td>\n",
       "    </tr>\n",
       "    <tr>\n",
       "      <th>1</th>\n",
       "      <td>2</td>\n",
       "      <td>Jumanji (1995)</td>\n",
       "      <td>Adventure|Children|Fantasy</td>\n",
       "      <td>[Adventure, Children, Fantasy]</td>\n",
       "      <td>0</td>\n",
       "      <td>0</td>\n",
       "      <td>1</td>\n",
       "      <td>0</td>\n",
       "      <td>1</td>\n",
       "      <td>0</td>\n",
       "      <td>...</td>\n",
       "      <td>0</td>\n",
       "      <td>0</td>\n",
       "      <td>0</td>\n",
       "      <td>0</td>\n",
       "      <td>0</td>\n",
       "      <td>0</td>\n",
       "      <td>0</td>\n",
       "      <td>0</td>\n",
       "      <td>0</td>\n",
       "      <td>0</td>\n",
       "    </tr>\n",
       "    <tr>\n",
       "      <th>2</th>\n",
       "      <td>3</td>\n",
       "      <td>Grumpier Old Men (1995)</td>\n",
       "      <td>Comedy|Romance</td>\n",
       "      <td>[Comedy, Romance]</td>\n",
       "      <td>0</td>\n",
       "      <td>0</td>\n",
       "      <td>0</td>\n",
       "      <td>0</td>\n",
       "      <td>0</td>\n",
       "      <td>1</td>\n",
       "      <td>...</td>\n",
       "      <td>0</td>\n",
       "      <td>0</td>\n",
       "      <td>0</td>\n",
       "      <td>0</td>\n",
       "      <td>0</td>\n",
       "      <td>1</td>\n",
       "      <td>0</td>\n",
       "      <td>0</td>\n",
       "      <td>0</td>\n",
       "      <td>0</td>\n",
       "    </tr>\n",
       "    <tr>\n",
       "      <th>3</th>\n",
       "      <td>4</td>\n",
       "      <td>Waiting to Exhale (1995)</td>\n",
       "      <td>Comedy|Drama|Romance</td>\n",
       "      <td>[Comedy, Drama, Romance]</td>\n",
       "      <td>0</td>\n",
       "      <td>0</td>\n",
       "      <td>0</td>\n",
       "      <td>0</td>\n",
       "      <td>0</td>\n",
       "      <td>1</td>\n",
       "      <td>...</td>\n",
       "      <td>0</td>\n",
       "      <td>0</td>\n",
       "      <td>0</td>\n",
       "      <td>0</td>\n",
       "      <td>0</td>\n",
       "      <td>1</td>\n",
       "      <td>0</td>\n",
       "      <td>0</td>\n",
       "      <td>0</td>\n",
       "      <td>0</td>\n",
       "    </tr>\n",
       "    <tr>\n",
       "      <th>4</th>\n",
       "      <td>5</td>\n",
       "      <td>Father of the Bride Part II (1995)</td>\n",
       "      <td>Comedy</td>\n",
       "      <td>[Comedy]</td>\n",
       "      <td>0</td>\n",
       "      <td>0</td>\n",
       "      <td>0</td>\n",
       "      <td>0</td>\n",
       "      <td>0</td>\n",
       "      <td>1</td>\n",
       "      <td>...</td>\n",
       "      <td>0</td>\n",
       "      <td>0</td>\n",
       "      <td>0</td>\n",
       "      <td>0</td>\n",
       "      <td>0</td>\n",
       "      <td>0</td>\n",
       "      <td>0</td>\n",
       "      <td>0</td>\n",
       "      <td>0</td>\n",
       "      <td>0</td>\n",
       "    </tr>\n",
       "  </tbody>\n",
       "</table>\n",
       "<p>5 rows × 24 columns</p>\n",
       "</div>"
      ],
      "text/plain": [
       "   movieId                               title  \\\n",
       "0        1                    Toy Story (1995)   \n",
       "1        2                      Jumanji (1995)   \n",
       "2        3             Grumpier Old Men (1995)   \n",
       "3        4            Waiting to Exhale (1995)   \n",
       "4        5  Father of the Bride Part II (1995)   \n",
       "\n",
       "                                        genres  \\\n",
       "0  Adventure|Animation|Children|Comedy|Fantasy   \n",
       "1                   Adventure|Children|Fantasy   \n",
       "2                               Comedy|Romance   \n",
       "3                         Comedy|Drama|Romance   \n",
       "4                                       Comedy   \n",
       "\n",
       "                                         genre_split  (no genres listed)  \\\n",
       "0  [Adventure, Animation, Children, Comedy, Fantasy]                   0   \n",
       "1                     [Adventure, Children, Fantasy]                   0   \n",
       "2                                  [Comedy, Romance]                   0   \n",
       "3                           [Comedy, Drama, Romance]                   0   \n",
       "4                                           [Comedy]                   0   \n",
       "\n",
       "   Action  Adventure  Animation  Children  Comedy   ...     Film-Noir  Horror  \\\n",
       "0       0          1          1         1       1   ...             0       0   \n",
       "1       0          1          0         1       0   ...             0       0   \n",
       "2       0          0          0         0       1   ...             0       0   \n",
       "3       0          0          0         0       1   ...             0       0   \n",
       "4       0          0          0         0       1   ...             0       0   \n",
       "\n",
       "   IMAX  Musical  Mystery  Romance  Sci-Fi  Thriller  War  Western  \n",
       "0     0        0        0        0       0         0    0        0  \n",
       "1     0        0        0        0       0         0    0        0  \n",
       "2     0        0        0        1       0         0    0        0  \n",
       "3     0        0        0        1       0         0    0        0  \n",
       "4     0        0        0        0       0         0    0        0  \n",
       "\n",
       "[5 rows x 24 columns]"
      ]
     },
     "execution_count": 13,
     "metadata": {},
     "output_type": "execute_result"
    }
   ],
   "source": [
    "def genre_1hot(row):\n",
    "    \n",
    "    # take the split genre list from each row\n",
    "    genre_list = row['genre_split']\n",
    "    \n",
    "    # for each genre that is in the list, make the respective column of the row equal to 1\n",
    "    for genre in genre_list:\n",
    "        row[genre] = 1\n",
    "    \n",
    "    return row\n",
    "\n",
    "# apply to all rows, axis=1 passes the entire row into the function\n",
    "movies = movies.apply(genre_1hot, axis=1)\n",
    "movies.head()"
   ]
  },
  {
   "cell_type": "code",
   "execution_count": 14,
   "metadata": {
    "collapsed": true
   },
   "outputs": [],
   "source": [
    "# genres and genre_split no longer required\n",
    "movies.drop(['genres','genre_split'],axis=1, inplace=True)"
   ]
  },
  {
   "cell_type": "code",
   "execution_count": 15,
   "metadata": {
    "collapsed": true
   },
   "outputs": [],
   "source": [
    "# create a new column called year\n",
    "# set it equal to the year extracted by the lambda function\n",
    "# works by finding the last open bracket in the title and then \n",
    "# grabbing all but the last character after it (so we don't grab the close bracket)\n",
    "movies['year'] = movies['title'].apply(lambda x: x.split('(')[-1][:-1])"
   ]
  },
  {
   "cell_type": "code",
   "execution_count": 16,
   "metadata": {},
   "outputs": [
    {
     "data": {
      "text/html": [
       "<div>\n",
       "<style>\n",
       "    .dataframe thead tr:only-child th {\n",
       "        text-align: right;\n",
       "    }\n",
       "\n",
       "    .dataframe thead th {\n",
       "        text-align: left;\n",
       "    }\n",
       "\n",
       "    .dataframe tbody tr th {\n",
       "        vertical-align: top;\n",
       "    }\n",
       "</style>\n",
       "<table border=\"1\" class=\"dataframe\">\n",
       "  <thead>\n",
       "    <tr style=\"text-align: right;\">\n",
       "      <th></th>\n",
       "      <th>movieId</th>\n",
       "      <th>title</th>\n",
       "      <th>year</th>\n",
       "      <th>(no genres listed)</th>\n",
       "      <th>Action</th>\n",
       "      <th>Adventure</th>\n",
       "      <th>Animation</th>\n",
       "      <th>Children</th>\n",
       "      <th>Comedy</th>\n",
       "      <th>Crime</th>\n",
       "      <th>...</th>\n",
       "      <th>Film-Noir</th>\n",
       "      <th>Horror</th>\n",
       "      <th>IMAX</th>\n",
       "      <th>Musical</th>\n",
       "      <th>Mystery</th>\n",
       "      <th>Romance</th>\n",
       "      <th>Sci-Fi</th>\n",
       "      <th>Thriller</th>\n",
       "      <th>War</th>\n",
       "      <th>Western</th>\n",
       "    </tr>\n",
       "  </thead>\n",
       "  <tbody>\n",
       "    <tr>\n",
       "      <th>0</th>\n",
       "      <td>1</td>\n",
       "      <td>Toy Story (1995)</td>\n",
       "      <td>1995</td>\n",
       "      <td>0</td>\n",
       "      <td>0</td>\n",
       "      <td>1</td>\n",
       "      <td>1</td>\n",
       "      <td>1</td>\n",
       "      <td>1</td>\n",
       "      <td>0</td>\n",
       "      <td>...</td>\n",
       "      <td>0</td>\n",
       "      <td>0</td>\n",
       "      <td>0</td>\n",
       "      <td>0</td>\n",
       "      <td>0</td>\n",
       "      <td>0</td>\n",
       "      <td>0</td>\n",
       "      <td>0</td>\n",
       "      <td>0</td>\n",
       "      <td>0</td>\n",
       "    </tr>\n",
       "    <tr>\n",
       "      <th>1</th>\n",
       "      <td>2</td>\n",
       "      <td>Jumanji (1995)</td>\n",
       "      <td>1995</td>\n",
       "      <td>0</td>\n",
       "      <td>0</td>\n",
       "      <td>1</td>\n",
       "      <td>0</td>\n",
       "      <td>1</td>\n",
       "      <td>0</td>\n",
       "      <td>0</td>\n",
       "      <td>...</td>\n",
       "      <td>0</td>\n",
       "      <td>0</td>\n",
       "      <td>0</td>\n",
       "      <td>0</td>\n",
       "      <td>0</td>\n",
       "      <td>0</td>\n",
       "      <td>0</td>\n",
       "      <td>0</td>\n",
       "      <td>0</td>\n",
       "      <td>0</td>\n",
       "    </tr>\n",
       "    <tr>\n",
       "      <th>2</th>\n",
       "      <td>3</td>\n",
       "      <td>Grumpier Old Men (1995)</td>\n",
       "      <td>1995</td>\n",
       "      <td>0</td>\n",
       "      <td>0</td>\n",
       "      <td>0</td>\n",
       "      <td>0</td>\n",
       "      <td>0</td>\n",
       "      <td>1</td>\n",
       "      <td>0</td>\n",
       "      <td>...</td>\n",
       "      <td>0</td>\n",
       "      <td>0</td>\n",
       "      <td>0</td>\n",
       "      <td>0</td>\n",
       "      <td>0</td>\n",
       "      <td>1</td>\n",
       "      <td>0</td>\n",
       "      <td>0</td>\n",
       "      <td>0</td>\n",
       "      <td>0</td>\n",
       "    </tr>\n",
       "    <tr>\n",
       "      <th>3</th>\n",
       "      <td>4</td>\n",
       "      <td>Waiting to Exhale (1995)</td>\n",
       "      <td>1995</td>\n",
       "      <td>0</td>\n",
       "      <td>0</td>\n",
       "      <td>0</td>\n",
       "      <td>0</td>\n",
       "      <td>0</td>\n",
       "      <td>1</td>\n",
       "      <td>0</td>\n",
       "      <td>...</td>\n",
       "      <td>0</td>\n",
       "      <td>0</td>\n",
       "      <td>0</td>\n",
       "      <td>0</td>\n",
       "      <td>0</td>\n",
       "      <td>1</td>\n",
       "      <td>0</td>\n",
       "      <td>0</td>\n",
       "      <td>0</td>\n",
       "      <td>0</td>\n",
       "    </tr>\n",
       "    <tr>\n",
       "      <th>4</th>\n",
       "      <td>5</td>\n",
       "      <td>Father of the Bride Part II (1995)</td>\n",
       "      <td>1995</td>\n",
       "      <td>0</td>\n",
       "      <td>0</td>\n",
       "      <td>0</td>\n",
       "      <td>0</td>\n",
       "      <td>0</td>\n",
       "      <td>1</td>\n",
       "      <td>0</td>\n",
       "      <td>...</td>\n",
       "      <td>0</td>\n",
       "      <td>0</td>\n",
       "      <td>0</td>\n",
       "      <td>0</td>\n",
       "      <td>0</td>\n",
       "      <td>0</td>\n",
       "      <td>0</td>\n",
       "      <td>0</td>\n",
       "      <td>0</td>\n",
       "      <td>0</td>\n",
       "    </tr>\n",
       "  </tbody>\n",
       "</table>\n",
       "<p>5 rows × 23 columns</p>\n",
       "</div>"
      ],
      "text/plain": [
       "   movieId                               title  year  (no genres listed)  \\\n",
       "0        1                    Toy Story (1995)  1995                   0   \n",
       "1        2                      Jumanji (1995)  1995                   0   \n",
       "2        3             Grumpier Old Men (1995)  1995                   0   \n",
       "3        4            Waiting to Exhale (1995)  1995                   0   \n",
       "4        5  Father of the Bride Part II (1995)  1995                   0   \n",
       "\n",
       "   Action  Adventure  Animation  Children  Comedy  Crime   ...     Film-Noir  \\\n",
       "0       0          1          1         1       1      0   ...             0   \n",
       "1       0          1          0         1       0      0   ...             0   \n",
       "2       0          0          0         0       1      0   ...             0   \n",
       "3       0          0          0         0       1      0   ...             0   \n",
       "4       0          0          0         0       1      0   ...             0   \n",
       "\n",
       "   Horror  IMAX  Musical  Mystery  Romance  Sci-Fi  Thriller  War  Western  \n",
       "0       0     0        0        0        0       0         0    0        0  \n",
       "1       0     0        0        0        0       0         0    0        0  \n",
       "2       0     0        0        0        1       0         0    0        0  \n",
       "3       0     0        0        0        1       0         0    0        0  \n",
       "4       0     0        0        0        0       0         0    0        0  \n",
       "\n",
       "[5 rows x 23 columns]"
      ]
     },
     "execution_count": 16,
     "metadata": {},
     "output_type": "execute_result"
    }
   ],
   "source": [
    "# reordering the columns so that year is next to title instead of at the end\n",
    "cols = movies.columns.tolist()\n",
    "cols = cols[:2] + cols[-1:] + cols [2:-1]\n",
    "movies = movies[cols]\n",
    "movies.head()"
   ]
  },
  {
   "cell_type": "code",
   "execution_count": 17,
   "metadata": {},
   "outputs": [
    {
     "data": {
      "text/html": [
       "<div>\n",
       "<style>\n",
       "    .dataframe thead tr:only-child th {\n",
       "        text-align: right;\n",
       "    }\n",
       "\n",
       "    .dataframe thead th {\n",
       "        text-align: left;\n",
       "    }\n",
       "\n",
       "    .dataframe tbody tr th {\n",
       "        vertical-align: top;\n",
       "    }\n",
       "</style>\n",
       "<table border=\"1\" class=\"dataframe\">\n",
       "  <thead>\n",
       "    <tr style=\"text-align: right;\">\n",
       "      <th></th>\n",
       "      <th>movieId</th>\n",
       "      <th>rating</th>\n",
       "      <th>movie_count</th>\n",
       "    </tr>\n",
       "  </thead>\n",
       "  <tbody>\n",
       "    <tr>\n",
       "      <th>0</th>\n",
       "      <td>1</td>\n",
       "      <td>3.888157</td>\n",
       "      <td>66008</td>\n",
       "    </tr>\n",
       "    <tr>\n",
       "      <th>1</th>\n",
       "      <td>2</td>\n",
       "      <td>3.236953</td>\n",
       "      <td>26060</td>\n",
       "    </tr>\n",
       "    <tr>\n",
       "      <th>2</th>\n",
       "      <td>3</td>\n",
       "      <td>3.175550</td>\n",
       "      <td>15497</td>\n",
       "    </tr>\n",
       "    <tr>\n",
       "      <th>3</th>\n",
       "      <td>4</td>\n",
       "      <td>2.875713</td>\n",
       "      <td>2981</td>\n",
       "    </tr>\n",
       "    <tr>\n",
       "      <th>4</th>\n",
       "      <td>5</td>\n",
       "      <td>3.079565</td>\n",
       "      <td>15258</td>\n",
       "    </tr>\n",
       "  </tbody>\n",
       "</table>\n",
       "</div>"
      ],
      "text/plain": [
       "   movieId    rating  movie_count\n",
       "0        1  3.888157        66008\n",
       "1        2  3.236953        26060\n",
       "2        3  3.175550        15497\n",
       "3        4  2.875713         2981\n",
       "4        5  3.079565        15258"
      ]
     },
     "execution_count": 17,
     "metadata": {},
     "output_type": "execute_result"
    }
   ],
   "source": [
    "# create aggregated table of movies with their average ratings\n",
    "avg_ratings = ratings[['movieId','rating']].groupby(by='movieId', as_index=False).mean()\n",
    "# add a column that shows how many ratings each movie got\n",
    "avg_ratings['movie_count'] = ratings[['movieId','rating']].groupby(by='movieId', as_index=False).count()['rating']\n",
    "avg_ratings.head()"
   ]
  },
  {
   "cell_type": "markdown",
   "metadata": {},
   "source": [
    "**Let's see what some of the best and worst rated movies are:**"
   ]
  },
  {
   "cell_type": "code",
   "execution_count": 18,
   "metadata": {},
   "outputs": [
    {
     "name": "stdout",
     "output_type": "stream",
     "text": [
      "5 Best rated movies are: \n",
      "\n",
      "       movieId  rating  movie_count                           title\n",
      "34799   147966     5.0            1  Tarzan's Fight for Life (1958)\n",
      "37018   154341     5.0            1                    Twist (1992)\n",
      "40487   164620     5.0            1            Zig Zag Story (1983)\n",
      "41457   167134     5.0            1           Thread of Lies (2014)\n",
      "28386   129223     5.0            1     Tarzan's Savage Fury (1952)\n",
      "5 Worst rated movies are: \n",
      "\n",
      "       movieId  rating  movie_count                            title\n",
      "29904   133871     0.5            1         Woman Times Seven (1967)\n",
      "44626   174947     0.5            1               Edith Walks (2017)\n",
      "29880   133810     0.5            1                   The Mad (2007)\n",
      "37649   156154     0.5            1                The Rescue (1971)\n",
      "43044   171217     0.5            1  They Call Me Macho Woman (1991)\n"
     ]
    }
   ],
   "source": [
    "# merge with movies dataframe so that we get the movie title for each movieId\n",
    "avg_ratings = pd.merge(avg_ratings, movies[['movieId','title']], how='left', on='movieId')\n",
    "print('5 Best rated movies are: \\n')\n",
    "print(avg_ratings.sort_values(by='rating', ascending=False).head(5))\n",
    "print('5 Worst rated movies are: \\n')\n",
    "print(avg_ratings.sort_values(by='rating', ascending=False).tail(5))"
   ]
  },
  {
   "cell_type": "markdown",
   "metadata": {},
   "source": [
    "All of the top 5 and bottom 5 movies have only had 1 review each, so the average isn't a fair representation. What happens if we limit the above ranking to movies that have at least 50 reviews?"
   ]
  },
  {
   "cell_type": "code",
   "execution_count": 19,
   "metadata": {},
   "outputs": [
    {
     "name": "stdout",
     "output_type": "stream",
     "text": [
      "5 Best rated movies are: \n",
      "\n",
      "                                  title    rating  movie_count\n",
      "38868               Planet Earth (2006)  4.478780          754\n",
      "315    Shawshank Redemption, The (1994)  4.429015        91082\n",
      "42834           Band of Brothers (2001)  4.394366          284\n",
      "42965            Planet Earth II (2016)  4.352632           95\n",
      "843               Godfather, The (1972)  4.339811        57070\n",
      "\n",
      "5 Worst rated movies are: \n",
      "\n",
      "                                                   title    rating  \\\n",
      "6478                                        Gigli (2003)  1.185678   \n",
      "4680                                      Glitter (2001)  1.141096   \n",
      "33900  Barbie & Her Sisters in the Great Puppy Advent...  1.000000   \n",
      "6374                         From Justin to Kelly (2003)  0.995690   \n",
      "8176                 SuperBabies: Baby Geniuses 2 (2004)  0.880342   \n",
      "\n",
      "       movie_count  \n",
      "6478           789  \n",
      "4680           730  \n",
      "33900           66  \n",
      "6374           464  \n",
      "8176           234  \n"
     ]
    }
   ],
   "source": [
    "print('5 Best rated movies are: \\n')\n",
    "print(avg_ratings[avg_ratings['movie_count'] >= 50][['title','rating','movie_count']].sort_values(by='rating', ascending=False).head(5))\n",
    "print('')\n",
    "print('5 Worst rated movies are: \\n')\n",
    "print(avg_ratings[avg_ratings['movie_count'] >= 50][['title','rating','movie_count']].sort_values(by='rating', ascending=False).tail(5))"
   ]
  },
  {
   "cell_type": "markdown",
   "metadata": {},
   "source": [
    "These seem like quite reasonable choices, looking at other sources like IMDb and Rotten Tomatoes we can see that Planet Earth has a 9.4/10 average rating and SuperBabies: Baby Geniuses 2 (wow that sounds awful just reading the name) has an average rating of 2.0/10.\n",
    "\n",
    "**Which genres have the highest average rating? **"
   ]
  },
  {
   "cell_type": "code",
   "execution_count": 20,
   "metadata": {},
   "outputs": [
    {
     "data": {
      "text/html": [
       "<div>\n",
       "<style>\n",
       "    .dataframe thead tr:only-child th {\n",
       "        text-align: right;\n",
       "    }\n",
       "\n",
       "    .dataframe thead th {\n",
       "        text-align: left;\n",
       "    }\n",
       "\n",
       "    .dataframe tbody tr th {\n",
       "        vertical-align: top;\n",
       "    }\n",
       "</style>\n",
       "<table border=\"1\" class=\"dataframe\">\n",
       "  <thead>\n",
       "    <tr style=\"text-align: right;\">\n",
       "      <th></th>\n",
       "      <th>movieId</th>\n",
       "      <th>title</th>\n",
       "      <th>year</th>\n",
       "      <th>(no genres listed)</th>\n",
       "      <th>Action</th>\n",
       "      <th>Adventure</th>\n",
       "      <th>Animation</th>\n",
       "      <th>Children</th>\n",
       "      <th>Comedy</th>\n",
       "      <th>Crime</th>\n",
       "      <th>...</th>\n",
       "      <th>IMAX</th>\n",
       "      <th>Musical</th>\n",
       "      <th>Mystery</th>\n",
       "      <th>Romance</th>\n",
       "      <th>Sci-Fi</th>\n",
       "      <th>Thriller</th>\n",
       "      <th>War</th>\n",
       "      <th>Western</th>\n",
       "      <th>rating</th>\n",
       "      <th>movie_count</th>\n",
       "    </tr>\n",
       "  </thead>\n",
       "  <tbody>\n",
       "    <tr>\n",
       "      <th>0</th>\n",
       "      <td>1</td>\n",
       "      <td>Toy Story (1995)</td>\n",
       "      <td>1995</td>\n",
       "      <td>0</td>\n",
       "      <td>0</td>\n",
       "      <td>1</td>\n",
       "      <td>1</td>\n",
       "      <td>1</td>\n",
       "      <td>1</td>\n",
       "      <td>0</td>\n",
       "      <td>...</td>\n",
       "      <td>0</td>\n",
       "      <td>0</td>\n",
       "      <td>0</td>\n",
       "      <td>0</td>\n",
       "      <td>0</td>\n",
       "      <td>0</td>\n",
       "      <td>0</td>\n",
       "      <td>0</td>\n",
       "      <td>3.888157</td>\n",
       "      <td>66008.0</td>\n",
       "    </tr>\n",
       "    <tr>\n",
       "      <th>1</th>\n",
       "      <td>2</td>\n",
       "      <td>Jumanji (1995)</td>\n",
       "      <td>1995</td>\n",
       "      <td>0</td>\n",
       "      <td>0</td>\n",
       "      <td>1</td>\n",
       "      <td>0</td>\n",
       "      <td>1</td>\n",
       "      <td>0</td>\n",
       "      <td>0</td>\n",
       "      <td>...</td>\n",
       "      <td>0</td>\n",
       "      <td>0</td>\n",
       "      <td>0</td>\n",
       "      <td>0</td>\n",
       "      <td>0</td>\n",
       "      <td>0</td>\n",
       "      <td>0</td>\n",
       "      <td>0</td>\n",
       "      <td>3.236953</td>\n",
       "      <td>26060.0</td>\n",
       "    </tr>\n",
       "    <tr>\n",
       "      <th>2</th>\n",
       "      <td>3</td>\n",
       "      <td>Grumpier Old Men (1995)</td>\n",
       "      <td>1995</td>\n",
       "      <td>0</td>\n",
       "      <td>0</td>\n",
       "      <td>0</td>\n",
       "      <td>0</td>\n",
       "      <td>0</td>\n",
       "      <td>1</td>\n",
       "      <td>0</td>\n",
       "      <td>...</td>\n",
       "      <td>0</td>\n",
       "      <td>0</td>\n",
       "      <td>0</td>\n",
       "      <td>1</td>\n",
       "      <td>0</td>\n",
       "      <td>0</td>\n",
       "      <td>0</td>\n",
       "      <td>0</td>\n",
       "      <td>3.175550</td>\n",
       "      <td>15497.0</td>\n",
       "    </tr>\n",
       "    <tr>\n",
       "      <th>3</th>\n",
       "      <td>4</td>\n",
       "      <td>Waiting to Exhale (1995)</td>\n",
       "      <td>1995</td>\n",
       "      <td>0</td>\n",
       "      <td>0</td>\n",
       "      <td>0</td>\n",
       "      <td>0</td>\n",
       "      <td>0</td>\n",
       "      <td>1</td>\n",
       "      <td>0</td>\n",
       "      <td>...</td>\n",
       "      <td>0</td>\n",
       "      <td>0</td>\n",
       "      <td>0</td>\n",
       "      <td>1</td>\n",
       "      <td>0</td>\n",
       "      <td>0</td>\n",
       "      <td>0</td>\n",
       "      <td>0</td>\n",
       "      <td>2.875713</td>\n",
       "      <td>2981.0</td>\n",
       "    </tr>\n",
       "    <tr>\n",
       "      <th>4</th>\n",
       "      <td>5</td>\n",
       "      <td>Father of the Bride Part II (1995)</td>\n",
       "      <td>1995</td>\n",
       "      <td>0</td>\n",
       "      <td>0</td>\n",
       "      <td>0</td>\n",
       "      <td>0</td>\n",
       "      <td>0</td>\n",
       "      <td>1</td>\n",
       "      <td>0</td>\n",
       "      <td>...</td>\n",
       "      <td>0</td>\n",
       "      <td>0</td>\n",
       "      <td>0</td>\n",
       "      <td>0</td>\n",
       "      <td>0</td>\n",
       "      <td>0</td>\n",
       "      <td>0</td>\n",
       "      <td>0</td>\n",
       "      <td>3.079565</td>\n",
       "      <td>15258.0</td>\n",
       "    </tr>\n",
       "  </tbody>\n",
       "</table>\n",
       "<p>5 rows × 25 columns</p>\n",
       "</div>"
      ],
      "text/plain": [
       "   movieId                               title  year  (no genres listed)  \\\n",
       "0        1                    Toy Story (1995)  1995                   0   \n",
       "1        2                      Jumanji (1995)  1995                   0   \n",
       "2        3             Grumpier Old Men (1995)  1995                   0   \n",
       "3        4            Waiting to Exhale (1995)  1995                   0   \n",
       "4        5  Father of the Bride Part II (1995)  1995                   0   \n",
       "\n",
       "   Action  Adventure  Animation  Children  Comedy  Crime     ...       IMAX  \\\n",
       "0       0          1          1         1       1      0     ...          0   \n",
       "1       0          1          0         1       0      0     ...          0   \n",
       "2       0          0          0         0       1      0     ...          0   \n",
       "3       0          0          0         0       1      0     ...          0   \n",
       "4       0          0          0         0       1      0     ...          0   \n",
       "\n",
       "   Musical  Mystery  Romance  Sci-Fi  Thriller  War  Western    rating  \\\n",
       "0        0        0        0       0         0    0        0  3.888157   \n",
       "1        0        0        0       0         0    0        0  3.236953   \n",
       "2        0        0        1       0         0    0        0  3.175550   \n",
       "3        0        0        1       0         0    0        0  2.875713   \n",
       "4        0        0        0       0         0    0        0  3.079565   \n",
       "\n",
       "   movie_count  \n",
       "0      66008.0  \n",
       "1      26060.0  \n",
       "2      15497.0  \n",
       "3       2981.0  \n",
       "4      15258.0  \n",
       "\n",
       "[5 rows x 25 columns]"
      ]
     },
     "execution_count": 20,
     "metadata": {},
     "output_type": "execute_result"
    }
   ],
   "source": [
    "# add the average rating and rating count to the movies dataframe\n",
    "movies = pd.merge(movies, avg_ratings.drop('title', axis=1), how='left', on='movieId')\n",
    "movies.head()"
   ]
  },
  {
   "cell_type": "code",
   "execution_count": 21,
   "metadata": {
    "collapsed": true
   },
   "outputs": [],
   "source": [
    "# rename the 'no genres' column because it contains brackets\n",
    "movies.rename(columns={'(no genres listed)':'No genre'}, inplace=True)\n",
    "# also rename the first element of our list of genres\n",
    "genres[0] = 'No genre'"
   ]
  },
  {
   "cell_type": "code",
   "execution_count": 22,
   "metadata": {},
   "outputs": [
    {
     "data": {
      "text/plain": [
       "{'Action': 2.907480986835453,\n",
       " 'Adventure': 3.0053797907375595,\n",
       " 'Animation': 3.1019211501623603,\n",
       " 'Children': 2.9941692120856218,\n",
       " 'Comedy': 3.0459564242081418,\n",
       " 'Crime': 3.0849887476955757,\n",
       " 'Documentary': 3.4018779251995923,\n",
       " 'Drama': 3.1854970785716814,\n",
       " 'Fantasy': 3.0112445862529977,\n",
       " 'Film-Noir': 3.2749608942111896,\n",
       " 'Horror': 2.5699016101754406,\n",
       " 'IMAX': 3.2710571488102795,\n",
       " 'Musical': 3.1806373483818486,\n",
       " 'Mystery': 3.0460059300808058,\n",
       " 'No genre': 2.9829671076426223,\n",
       " 'Romance': 3.1554192365015243,\n",
       " 'Sci-Fi': 2.7705485885884156,\n",
       " 'Thriller': 2.9160945538643812,\n",
       " 'War': 3.2292472013492275,\n",
       " 'Western': 3.0269979078824996}"
      ]
     },
     "execution_count": 22,
     "metadata": {},
     "output_type": "execute_result"
    }
   ],
   "source": [
    "# empty dict to store averages in\n",
    "genre_averages ={}\n",
    "\n",
    "for genre in genres:\n",
    "    # create a temporary matrix for each genre that has 2 rows\n",
    "    # when the genre is 1, and when it is 0, calculating the mean for each\n",
    "    temp = movies[[genre,'rating']].groupby(by=genre, as_index=False).mean()\n",
    "    # add the value for when the genre is 1 to the dictionary\n",
    "    genre_averages[genre] = temp[temp[genre] == 1]['rating'].values[0]\n",
    "    \n",
    "genre_averages"
   ]
  },
  {
   "cell_type": "code",
   "execution_count": 23,
   "metadata": {},
   "outputs": [
    {
     "data": {
      "text/plain": [
       "<matplotlib.legend.Legend at 0x2718df31048>"
      ]
     },
     "execution_count": 23,
     "metadata": {},
     "output_type": "execute_result"
    },
    {
     "data": {
      "image/png": "[encoded data removed]",
      "text/plain": [
       "<matplotlib.figure.Figure at 0x2718dc2ea90>"
      ]
     },
     "metadata": {},
     "output_type": "display_data"
    }
   ],
   "source": [
    "sns.barplot(x=list(genre_averages.keys()), y=list(genre_averages.values()))\n",
    "plt.xticks(rotation=90)\n",
    "plt.title('Average rating for each genre')\n",
    "plt.ylabel('Average rating')\n",
    "plt.ylim((2,4))\n",
    "plt.axhline(y=np.median(list(genre_averages.values())), label='Median = ' + str(round(np.median(list(genre_averages.values())),2)))\n",
    "plt.tight_layout()\n",
    "plt.legend(loc=(1.02, 0.5))"
   ]
  },
  {
   "cell_type": "markdown",
   "metadata": {},
   "source": [
    "We can see from the above plot that the median average genre rating is 3.05. Documentaries have the highest average ratings (3.4) and Horror movies have by far the lowest average ratings (2.6). \n",
    "\n",
    "It is worth noting that each movie is weighted the same in this calculation, so a movie with 1 review has the same weight as a movie with 10,000 reviews. Also many movies have multiple genres and are included in the calculation for each.\n",
    "\n",
    "**Which movie has the most polarising effect on the audience (has the biggest spread of review scores)?**"
   ]
  },
  {
   "cell_type": "code",
   "execution_count": 24,
   "metadata": {},
   "outputs": [
    {
     "data": {
      "text/html": [
       "<div>\n",
       "<style>\n",
       "    .dataframe thead tr:only-child th {\n",
       "        text-align: right;\n",
       "    }\n",
       "\n",
       "    .dataframe thead th {\n",
       "        text-align: left;\n",
       "    }\n",
       "\n",
       "    .dataframe tbody tr th {\n",
       "        vertical-align: top;\n",
       "    }\n",
       "</style>\n",
       "<table border=\"1\" class=\"dataframe\">\n",
       "  <thead>\n",
       "    <tr style=\"text-align: right;\">\n",
       "      <th></th>\n",
       "      <th>std</th>\n",
       "      <th>movie_count</th>\n",
       "    </tr>\n",
       "    <tr>\n",
       "      <th>movieId</th>\n",
       "      <th></th>\n",
       "      <th></th>\n",
       "    </tr>\n",
       "  </thead>\n",
       "  <tbody>\n",
       "    <tr>\n",
       "      <th>1311</th>\n",
       "      <td>1.744143</td>\n",
       "      <td>165</td>\n",
       "    </tr>\n",
       "    <tr>\n",
       "      <th>74754</th>\n",
       "      <td>1.727892</td>\n",
       "      <td>384</td>\n",
       "    </tr>\n",
       "    <tr>\n",
       "      <th>89281</th>\n",
       "      <td>1.645239</td>\n",
       "      <td>73</td>\n",
       "    </tr>\n",
       "    <tr>\n",
       "      <th>843</th>\n",
       "      <td>1.623914</td>\n",
       "      <td>63</td>\n",
       "    </tr>\n",
       "    <tr>\n",
       "      <th>110603</th>\n",
       "      <td>1.616805</td>\n",
       "      <td>117</td>\n",
       "    </tr>\n",
       "  </tbody>\n",
       "</table>\n",
       "</div>"
      ],
      "text/plain": [
       "              std  movie_count\n",
       "movieId                       \n",
       "1311     1.744143          165\n",
       "74754    1.727892          384\n",
       "89281    1.645239           73\n",
       "843      1.623914           63\n",
       "110603   1.616805          117"
      ]
     },
     "execution_count": 24,
     "metadata": {},
     "output_type": "execute_result"
    }
   ],
   "source": [
    "# groupby movieId again but this time calculate the standard deviations\n",
    "deviations = ratings[['movieId','rating']].groupby(by='movieId', as_index=True).std()\n",
    "deviations['movie_count'] = ratings[['movieId','rating']].groupby(by='movieId', as_index=True).count()['rating']\n",
    "deviations.rename(columns={'rating':'std'}, inplace=True)\n",
    "deviations.sort_values(by='std', ascending=False, inplace=True)\n",
    "# again limit to movies with at least 50 ratings\n",
    "deviations[deviations['movie_count'] >= 50].head()"
   ]
  },
  {
   "cell_type": "code",
   "execution_count": 25,
   "metadata": {},
   "outputs": [
    {
     "name": "stdout",
     "output_type": "stream",
     "text": [
      "Santa with Muscles (1996) has:\n",
      "Average rating of 2.56060606061\n",
      "Deviation of 1.7441434046\n"
     ]
    }
   ],
   "source": [
    "# take the movieId of the movie with the highest standard deviation\n",
    "largest_std = deviations[deviations['movie_count'] >= 50].iloc[0].name\n",
    "print(movies[movies['movieId']==largest_std]['title'].values[0] + ' has:')\n",
    "print('Average rating of ' + str(avg_ratings[avg_ratings['movieId']==largest_std]['rating'].values[0]))\n",
    "print('Deviation of ' + str(deviations.loc[largest_std]['std']))"
   ]
  },
  {
   "cell_type": "markdown",
   "metadata": {},
   "source": [
    "Interestingly this movie has an average rating pretty much in the middle of the scale and the standard deviation that is equal to a large proportion of the distance from the mean to the maximum and minimum possible scores. Let's take a closer look at the distribution."
   ]
  },
  {
   "cell_type": "code",
   "execution_count": 26,
   "metadata": {},
   "outputs": [
    {
     "data": {
      "text/plain": [
       "Text(0.5,1.05,'Rating distribution for \"Santa with Muscles (1996)\"')"
      ]
     },
     "execution_count": 26,
     "metadata": {},
     "output_type": "execute_result"
    },
    {
     "data": {
      "image/png": "[encoded data removed]",
      "text/plain": [
       "<matplotlib.figure.Figure at 0x2718de8e3c8>"
      ]
     },
     "metadata": {},
     "output_type": "display_data"
    }
   ],
   "source": [
    "sns.countplot(ratings[ratings['movieId'] == largest_std]['rating'])\n",
    "plt.title('Rating distribution for \"Santa with Muscles (1996)\"', y=1.05)"
   ]
  },
  {
   "cell_type": "markdown",
   "metadata": {},
   "source": [
    "We can see that the movie was very polarising among reviewers, with the vast majority of votes being either 1.0 or 5.0. This is a Christmas movie starring former Wrestler Hulk Hogan, so it's safe to assume that the movie is terrible and the 5.0 ratings are ironic/sarcastic ratings or there are a lot of Hulk Hogan fans that use MovieLens.\n",
    "\n",
    "## 2. Building the recommender system <a class=\"anchor\" id=\"second-bullet\"></a>\n",
    "\n",
    "There are a few different types of recommender system:\n",
    "* **Popularity based** : Simplest form of recommender system, will recommend that users watch the highest rated movies, because on average these have the highest probability of being liked. This works in some situations (for example [YouTube Trending](https://www.youtube.com/feed/trending) simply recommends the most viewed/liked videos from a certain timeframe.\n",
    "\n",
    "\n",
    "* **Content based** : This type looks at the features of a movie (e.g. the genres, the release year, actors, producer/director) to define a similarity metric between movies. It then looks at movies the user has rated highly and recommends the most similar movies. The drawbacks of this system are that detailed information is required about each movie and similar features do not necessarily guarantee a similar quality of movie (e.g. recommending 'Sinbad: Legend of the Seven Seas', a pretty bad cartoon movie, to someone who has given 'Fight Club' a high rating based on the fact that they both have Brad Pitt in would probably not result in a happy user). An example of this is Amazon's 'Products related to this item' section on a product page.\n",
    "\n",
    "\n",
    "* **Collaborative filtering** : This type of recommender looks at the past ratings of users or movies to find users or movies that have a similar rating history. For 2 similar users, User A and User B, it can then recommend movies that User A liked but User B hasn't seen to User B, and vice-versa for User A. For 2 movies that have similar rating histories, Movie A and Movie B, if a user gives Movie A a high rating then the system will likely recommend Movie B to them. This results in very personalised recommendations. An example of this is Amazon's 'Customers who bought this item also bought' section on a product page. Collaborative filtering systems suffer from 'cold-start' issues, where a user has no history and so it is difficult to tell who similar users are.\n",
    "\n",
    "In reality, productionised recommendation systems use Hybrid combinations of the above types to provide an optimal experience for users, combining the strengths and eliminating the weaknesses of the 3 types.\n",
    "\n",
    "We will be constructing a **collaborative filtering** system to recommend movies, as we don't have too many features for the movies and we can remove reviewers that reviewed less than a threshold number of movies to get rid of the cold-start problem."
   ]
  },
  {
   "cell_type": "markdown",
   "metadata": {},
   "source": [
    "### Data format\n",
    "To create a collaborative filtering system we need the data in a specific format. We want to create a matrix where a row relates to a specific user and a column relates to a specific movie. This will have shape (n_users, n_movies).\n",
    "\n",
    "Then, by either looking at the similarity between rows or the similarity between columns we can implement a User based filtering system or a Movie based filtering system. The user similarity matrix will have shape (n_users, n_users) and the movie similarity matrix will have shape (n_movies, n_movies).\n",
    "\n",
    "These matrices have very large dimensions for this dataset. In fact they will be far too large to fit into the memory of my laptop (16GB) for example the user similarity matrix would have shape (271k, 271k) and assuming 32bit floating numbers for each cell we would require around 294GB of RAM. \n",
    "\n",
    "The rating matrix is fairly sparse and so can be stored in a more memory efficient datastructure, but the similarity matrices are completely non-sparse if all users and movies have ratings. For this reason I am significantly reducing the size of the data set for our recommendation system. "
   ]
  },
  {
   "cell_type": "code",
   "execution_count": 27,
   "metadata": {
    "collapsed": true
   },
   "outputs": [],
   "source": [
    "# only keeping the first 2M ratings due to memory restrictions\n",
    "ratings = pd.read_csv('Movie Recommender/ratings.csv')\n",
    "ratings = ratings.iloc[:2000000]"
   ]
  },
  {
   "cell_type": "code",
   "execution_count": 28,
   "metadata": {},
   "outputs": [
    {
     "data": {
      "text/html": [
       "<div>\n",
       "<style>\n",
       "    .dataframe thead tr:only-child th {\n",
       "        text-align: right;\n",
       "    }\n",
       "\n",
       "    .dataframe thead th {\n",
       "        text-align: left;\n",
       "    }\n",
       "\n",
       "    .dataframe tbody tr th {\n",
       "        vertical-align: top;\n",
       "    }\n",
       "</style>\n",
       "<table border=\"1\" class=\"dataframe\">\n",
       "  <thead>\n",
       "    <tr style=\"text-align: right;\">\n",
       "      <th></th>\n",
       "      <th>userId</th>\n",
       "      <th>user_counts</th>\n",
       "    </tr>\n",
       "  </thead>\n",
       "  <tbody>\n",
       "    <tr>\n",
       "      <th>0</th>\n",
       "      <td>1</td>\n",
       "      <td>27</td>\n",
       "    </tr>\n",
       "    <tr>\n",
       "      <th>1</th>\n",
       "      <td>2</td>\n",
       "      <td>22</td>\n",
       "    </tr>\n",
       "    <tr>\n",
       "      <th>2</th>\n",
       "      <td>3</td>\n",
       "      <td>10</td>\n",
       "    </tr>\n",
       "    <tr>\n",
       "      <th>3</th>\n",
       "      <td>4</td>\n",
       "      <td>62</td>\n",
       "    </tr>\n",
       "    <tr>\n",
       "      <th>4</th>\n",
       "      <td>5</td>\n",
       "      <td>26</td>\n",
       "    </tr>\n",
       "  </tbody>\n",
       "</table>\n",
       "</div>"
      ],
      "text/plain": [
       "   userId  user_counts\n",
       "0       1           27\n",
       "1       2           22\n",
       "2       3           10\n",
       "3       4           62\n",
       "4       5           26"
      ]
     },
     "execution_count": 28,
     "metadata": {},
     "output_type": "execute_result"
    }
   ],
   "source": [
    "# create a count of ratings per user\n",
    "user_rating_counts = ratings[['userId','rating']].groupby(by='userId', as_index=False).count()\n",
    "user_rating_counts['user_counts'] = user_rating_counts['rating']\n",
    "user_rating_counts.drop('rating', axis=1, inplace=True)\n",
    "user_rating_counts.head()"
   ]
  },
  {
   "cell_type": "code",
   "execution_count": 29,
   "metadata": {},
   "outputs": [
    {
     "data": {
      "text/html": [
       "<div>\n",
       "<style>\n",
       "    .dataframe thead tr:only-child th {\n",
       "        text-align: right;\n",
       "    }\n",
       "\n",
       "    .dataframe thead th {\n",
       "        text-align: left;\n",
       "    }\n",
       "\n",
       "    .dataframe tbody tr th {\n",
       "        vertical-align: top;\n",
       "    }\n",
       "</style>\n",
       "<table border=\"1\" class=\"dataframe\">\n",
       "  <thead>\n",
       "    <tr style=\"text-align: right;\">\n",
       "      <th></th>\n",
       "      <th>movieId</th>\n",
       "      <th>movie_counts</th>\n",
       "    </tr>\n",
       "  </thead>\n",
       "  <tbody>\n",
       "    <tr>\n",
       "      <th>0</th>\n",
       "      <td>1</td>\n",
       "      <td>5125</td>\n",
       "    </tr>\n",
       "    <tr>\n",
       "      <th>1</th>\n",
       "      <td>2</td>\n",
       "      <td>1990</td>\n",
       "    </tr>\n",
       "    <tr>\n",
       "      <th>2</th>\n",
       "      <td>3</td>\n",
       "      <td>1153</td>\n",
       "    </tr>\n",
       "    <tr>\n",
       "      <th>3</th>\n",
       "      <td>4</td>\n",
       "      <td>198</td>\n",
       "    </tr>\n",
       "    <tr>\n",
       "      <th>4</th>\n",
       "      <td>5</td>\n",
       "      <td>1178</td>\n",
       "    </tr>\n",
       "  </tbody>\n",
       "</table>\n",
       "</div>"
      ],
      "text/plain": [
       "   movieId  movie_counts\n",
       "0        1          5125\n",
       "1        2          1990\n",
       "2        3          1153\n",
       "3        4           198\n",
       "4        5          1178"
      ]
     },
     "execution_count": 29,
     "metadata": {},
     "output_type": "execute_result"
    }
   ],
   "source": [
    "# create a count of ratings per movie\n",
    "movie_rating_counts = ratings[['movieId','rating']].groupby(by='movieId', as_index=False).count()\n",
    "movie_rating_counts['movie_counts'] = movie_rating_counts['rating']\n",
    "movie_rating_counts.drop('rating', axis=1, inplace=True)\n",
    "movie_rating_counts.head()"
   ]
  },
  {
   "cell_type": "code",
   "execution_count": 30,
   "metadata": {},
   "outputs": [
    {
     "data": {
      "text/html": [
       "<div>\n",
       "<style>\n",
       "    .dataframe thead tr:only-child th {\n",
       "        text-align: right;\n",
       "    }\n",
       "\n",
       "    .dataframe thead th {\n",
       "        text-align: left;\n",
       "    }\n",
       "\n",
       "    .dataframe tbody tr th {\n",
       "        vertical-align: top;\n",
       "    }\n",
       "</style>\n",
       "<table border=\"1\" class=\"dataframe\">\n",
       "  <thead>\n",
       "    <tr style=\"text-align: right;\">\n",
       "      <th></th>\n",
       "      <th>userId</th>\n",
       "      <th>movieId</th>\n",
       "      <th>rating</th>\n",
       "      <th>timestamp</th>\n",
       "      <th>user_counts</th>\n",
       "      <th>movie_counts</th>\n",
       "    </tr>\n",
       "  </thead>\n",
       "  <tbody>\n",
       "    <tr>\n",
       "      <th>0</th>\n",
       "      <td>1</td>\n",
       "      <td>110</td>\n",
       "      <td>1.0</td>\n",
       "      <td>1425941529</td>\n",
       "      <td>27</td>\n",
       "      <td>5091</td>\n",
       "    </tr>\n",
       "    <tr>\n",
       "      <th>1</th>\n",
       "      <td>1</td>\n",
       "      <td>147</td>\n",
       "      <td>4.5</td>\n",
       "      <td>1425942435</td>\n",
       "      <td>27</td>\n",
       "      <td>402</td>\n",
       "    </tr>\n",
       "    <tr>\n",
       "      <th>2</th>\n",
       "      <td>1</td>\n",
       "      <td>858</td>\n",
       "      <td>5.0</td>\n",
       "      <td>1425941523</td>\n",
       "      <td>27</td>\n",
       "      <td>4459</td>\n",
       "    </tr>\n",
       "    <tr>\n",
       "      <th>3</th>\n",
       "      <td>1</td>\n",
       "      <td>1221</td>\n",
       "      <td>5.0</td>\n",
       "      <td>1425941546</td>\n",
       "      <td>27</td>\n",
       "      <td>2853</td>\n",
       "    </tr>\n",
       "    <tr>\n",
       "      <th>4</th>\n",
       "      <td>1</td>\n",
       "      <td>1246</td>\n",
       "      <td>5.0</td>\n",
       "      <td>1425941556</td>\n",
       "      <td>27</td>\n",
       "      <td>2006</td>\n",
       "    </tr>\n",
       "  </tbody>\n",
       "</table>\n",
       "</div>"
      ],
      "text/plain": [
       "   userId  movieId  rating   timestamp  user_counts  movie_counts\n",
       "0       1      110     1.0  1425941529           27          5091\n",
       "1       1      147     4.5  1425942435           27           402\n",
       "2       1      858     5.0  1425941523           27          4459\n",
       "3       1     1221     5.0  1425941546           27          2853\n",
       "4       1     1246     5.0  1425941556           27          2006"
      ]
     },
     "execution_count": 30,
     "metadata": {},
     "output_type": "execute_result"
    }
   ],
   "source": [
    "#remove all movies with less than 50 ratings and users with less than 10 ratings\n",
    "ratings = pd.merge(ratings, user_rating_counts, how='left', on = 'userId')\n",
    "ratings = pd.merge(ratings, movie_rating_counts, how='left', on = 'movieId')\n",
    "ratings = ratings[(ratings['movie_counts'] > 50) & (ratings['user_counts'] > 10)]\n",
    "ratings.head()"
   ]
  },
  {
   "cell_type": "code",
   "execution_count": 31,
   "metadata": {
    "collapsed": true
   },
   "outputs": [],
   "source": [
    "# need to create a hash table for userID and movieID because of gaps that waste memory\n",
    "import collections\n",
    "# userId hash table\n",
    "# defaultdict is a structure that adds a key if it doesn't exist\n",
    "user_dict = collections.defaultdict()\n",
    "\n",
    "#the userId's are the keys\n",
    "user_keys = set(list(ratings['userId']))\n",
    "\n",
    "user_index = 0\n",
    "\n",
    "# each userId gets assigned a userIndex between 0 and n_users\n",
    "for key in user_keys:\n",
    "    user_dict[key] = user_index\n",
    "    user_index += 1\n",
    "\n",
    "# create a reversed dictionary incase we need to get back\n",
    "user_dict_rev = {v: k for k, v in user_dict.items()}\n",
    "\n",
    "# movieId hash table\n",
    "movie_dict = collections.defaultdict()\n",
    "movie_keys = set(list(ratings['movieId']))\n",
    "\n",
    "movie_index = 0\n",
    "for key in movie_keys:\n",
    "    movie_dict[key] = movie_index\n",
    "    movie_index += 1\n",
    "\n",
    "# create a reversed dictionary incase we need to get back\n",
    "movie_dict_rev = {v: k for k, v in movie_dict.items()}"
   ]
  },
  {
   "cell_type": "code",
   "execution_count": 32,
   "metadata": {},
   "outputs": [
    {
     "data": {
      "text/html": [
       "<div>\n",
       "<style>\n",
       "    .dataframe thead tr:only-child th {\n",
       "        text-align: right;\n",
       "    }\n",
       "\n",
       "    .dataframe thead th {\n",
       "        text-align: left;\n",
       "    }\n",
       "\n",
       "    .dataframe tbody tr th {\n",
       "        vertical-align: top;\n",
       "    }\n",
       "</style>\n",
       "<table border=\"1\" class=\"dataframe\">\n",
       "  <thead>\n",
       "    <tr style=\"text-align: right;\">\n",
       "      <th></th>\n",
       "      <th>userId</th>\n",
       "      <th>movieId</th>\n",
       "      <th>rating</th>\n",
       "      <th>timestamp</th>\n",
       "      <th>user_counts</th>\n",
       "      <th>movie_counts</th>\n",
       "      <th>movieIndex</th>\n",
       "      <th>userIndex</th>\n",
       "    </tr>\n",
       "  </thead>\n",
       "  <tbody>\n",
       "    <tr>\n",
       "      <th>0</th>\n",
       "      <td>1</td>\n",
       "      <td>110</td>\n",
       "      <td>1.0</td>\n",
       "      <td>1425941529</td>\n",
       "      <td>27</td>\n",
       "      <td>5091</td>\n",
       "      <td>106</td>\n",
       "      <td>0</td>\n",
       "    </tr>\n",
       "    <tr>\n",
       "      <th>1</th>\n",
       "      <td>1</td>\n",
       "      <td>147</td>\n",
       "      <td>4.5</td>\n",
       "      <td>1425942435</td>\n",
       "      <td>27</td>\n",
       "      <td>402</td>\n",
       "      <td>133</td>\n",
       "      <td>0</td>\n",
       "    </tr>\n",
       "    <tr>\n",
       "      <th>2</th>\n",
       "      <td>1</td>\n",
       "      <td>858</td>\n",
       "      <td>5.0</td>\n",
       "      <td>1425941523</td>\n",
       "      <td>27</td>\n",
       "      <td>4459</td>\n",
       "      <td>751</td>\n",
       "      <td>0</td>\n",
       "    </tr>\n",
       "    <tr>\n",
       "      <th>3</th>\n",
       "      <td>1</td>\n",
       "      <td>1221</td>\n",
       "      <td>5.0</td>\n",
       "      <td>1425941546</td>\n",
       "      <td>27</td>\n",
       "      <td>2853</td>\n",
       "      <td>1019</td>\n",
       "      <td>0</td>\n",
       "    </tr>\n",
       "    <tr>\n",
       "      <th>4</th>\n",
       "      <td>1</td>\n",
       "      <td>1246</td>\n",
       "      <td>5.0</td>\n",
       "      <td>1425941556</td>\n",
       "      <td>27</td>\n",
       "      <td>2006</td>\n",
       "      <td>1043</td>\n",
       "      <td>0</td>\n",
       "    </tr>\n",
       "  </tbody>\n",
       "</table>\n",
       "</div>"
      ],
      "text/plain": [
       "   userId  movieId  rating   timestamp  user_counts  movie_counts  movieIndex  \\\n",
       "0       1      110     1.0  1425941529           27          5091         106   \n",
       "1       1      147     4.5  1425942435           27           402         133   \n",
       "2       1      858     5.0  1425941523           27          4459         751   \n",
       "3       1     1221     5.0  1425941546           27          2853        1019   \n",
       "4       1     1246     5.0  1425941556           27          2006        1043   \n",
       "\n",
       "   userIndex  \n",
       "0          0  \n",
       "1          0  \n",
       "2          0  \n",
       "3          0  \n",
       "4          0  "
      ]
     },
     "execution_count": 32,
     "metadata": {},
     "output_type": "execute_result"
    }
   ],
   "source": [
    "# create new columns in ratings dataframe\n",
    "ratings['movieIndex'] = ratings['movieId'].map(movie_dict)\n",
    "ratings['userIndex'] = ratings['userId'].map(user_dict)\n",
    "ratings.head()"
   ]
  },
  {
   "cell_type": "code",
   "execution_count": 33,
   "metadata": {},
   "outputs": [
    {
     "name": "stdout",
     "output_type": "stream",
     "text": [
      "There are now 17352 users.\n",
      "There are now 4632 movies.\n",
      "The user-movie rating matrix is now 80374464 cells.\n",
      "The user-user correlation matrix is now 301091904 cells.\n"
     ]
    }
   ],
   "source": [
    "n_users = ratings['userIndex'].max() + 1\n",
    "n_movies = ratings['movieIndex'].max() + 1\n",
    "print('There are now ' + str(n_users) + ' users.')\n",
    "print('There are now ' + str(n_movies) + ' movies.')\n",
    "print('The user-movie rating matrix is now ' + str(n_users*n_movies) + ' cells.')\n",
    "print('The user-user correlation matrix is now ' + str(n_users*n_users) + ' cells.')"
   ]
  },
  {
   "cell_type": "markdown",
   "metadata": {},
   "source": [
    "We need to split the data into a training and test set. We will build the recommender system on the training set and then use the test set to evaluate predictions. It is bad practice to evaluate a model on data used to build it."
   ]
  },
  {
   "cell_type": "code",
   "execution_count": 34,
   "metadata": {
    "collapsed": true
   },
   "outputs": [],
   "source": [
    "# we need 2 matrices with shape (n_users, n_movies) to store the train and test data in\n",
    "train_matrix = np.zeros((n_users, n_movies))\n",
    "test_matrix = np.zeros((n_users, n_movies))\n",
    "\n",
    "# now we need to randomly split the 'ratings' dataframe into training and testing data\n",
    "from sklearn.model_selection import train_test_split\n",
    "\n",
    "# using a split of 90:10\n",
    "train_data, test_data = train_test_split(ratings, test_size=0.1, shuffle=True, random_state=1)"
   ]
  },
  {
   "cell_type": "code",
   "execution_count": 35,
   "metadata": {
    "collapsed": true
   },
   "outputs": [],
   "source": [
    "for row in train_data.itertuples():\n",
    "    # set the element at row 'userIndex' which is index 8, column 'movieIndex' which is index 7\n",
    "    # to be equal to the 'rating' which is index 3\n",
    "    train_matrix[row[8], row[7]] = row[3]\n",
    "\n",
    "# similar process for the test data\n",
    "for row in test_data.itertuples():\n",
    "    test_matrix[row[8], row[7]] = row[3]"
   ]
  },
  {
   "cell_type": "code",
   "execution_count": 36,
   "metadata": {
    "collapsed": true
   },
   "outputs": [],
   "source": [
    "from sklearn.metrics.pairwise import cosine_similarity\n",
    "\n",
    "# this creates the similarity between rows (users)\n",
    "user_similarities = cosine_similarity(train_matrix)\n",
    "\n",
    "# this creates the similarity between columns (movies)\n",
    "movie_similarities = cosine_similarity(train_matrix.T)"
   ]
  },
  {
   "cell_type": "markdown",
   "metadata": {},
   "source": [
    "Let's create a function that can get the most similar movies to a chosen movie. Note that cosine similarity varies from -1 (completely opposite) to 1 (exactly the same). Therefore we want to get the movies with the highest cosine similarities with a given movie."
   ]
  },
  {
   "cell_type": "code",
   "execution_count": 37,
   "metadata": {
    "collapsed": true
   },
   "outputs": [],
   "source": [
    "def similar_movies(movie_title, movies=movies, movie_dict=movie_dict, movie_similarities=movie_similarities, movie_dict_rev=movie_dict_rev):\n",
    "    '''Takes in a movie title (consistent with the titles in the movies dataframe) and returns the \n",
    "    5 most similar movies, based purely upon similarity of rating history'''\n",
    "    \n",
    "    # get the movieId by looking up title in the movies dataframe\n",
    "    movieId = movies[movies['title'] == movie_title]['movieId'].values[0]\n",
    "    # use movie_dict to get the movieIndex\n",
    "    movieIndex = movie_dict[movieId]\n",
    "    \n",
    "    # grab the corresponding row of the movie similarity matrix\n",
    "    movieVector = movie_similarities[movieIndex, :]\n",
    "    \n",
    "    # argsort the row, so we know \n",
    "    movieVector_args = np.argsort(movieVector)\n",
    "    \n",
    "    # extract the indices of the 5 largest values\n",
    "    # reverse it because the largest is at the end\n",
    "    indices = list(reversed(movieVector_args[-5:]))\n",
    "    # get the similarity value for each of the indices extracted\n",
    "    similarities=[movieVector[arg] for arg in indices]\n",
    "    \n",
    "    ids = [movie_dict_rev[index] for index in indices]\n",
    "    titles = [movies[movies['movieId'] == Id]['title'].values[0] for Id in ids]\n",
    "    \n",
    "    for title, similarity in zip(titles, similarities):\n",
    "        print(title + ' : ' + str(similarity))"
   ]
  },
  {
   "cell_type": "code",
   "execution_count": 38,
   "metadata": {},
   "outputs": [
    {
     "name": "stdout",
     "output_type": "stream",
     "text": [
      "Star Wars: Episode V - The Empire Strikes Back (1980) : 1.0\n",
      "Star Wars: Episode IV - A New Hope (1977) : 0.710802762324\n",
      "Star Wars: Episode VI - Return of the Jedi (1983) : 0.697117387319\n",
      "Raiders of the Lost Ark (Indiana Jones and the Raiders of the Lost Ark) (1981) : 0.651978974751\n",
      "Indiana Jones and the Last Crusade (1989) : 0.591202298253\n"
     ]
    }
   ],
   "source": [
    "similar_movies('Star Wars: Episode V - The Empire Strikes Back (1980)')"
   ]
  },
  {
   "cell_type": "code",
   "execution_count": 39,
   "metadata": {},
   "outputs": [
    {
     "name": "stdout",
     "output_type": "stream",
     "text": [
      "Fight Club (1999) : 1.0\n",
      "Matrix, The (1999) : 0.590987863202\n",
      "Memento (2000) : 0.562552065916\n",
      "American Beauty (1999) : 0.548615358274\n",
      "Lord of the Rings: The Fellowship of the Ring, The (2001) : 0.541258035677\n"
     ]
    }
   ],
   "source": [
    "similar_movies('Fight Club (1999)')"
   ]
  },
  {
   "cell_type": "markdown",
   "metadata": {
    "collapsed": true
   },
   "source": [
    "The first movie that is returned is always the query movie. This is because the angle between a vector and itself will always be zero, and the cosine of zero is 1. Then we get some other movies. Querying Star Wars Episode V returns Episodes IV and VI along with 2 Indiana Jones movies that were released around the same time. These 2 movie franchises have similar cult followings.\n",
    "\n",
    "Querying Fight Club returns The Matrix, Memento, American Beauty and LOTR. These were all released around the same year and (except LOTR) all have strong psychological components to the plotline.\n",
    "\n",
    "Without any details on the movies themselves, we have been able to identify movies that are similar in nature to a query movie and that are likely to be good recommendations to people that liked the query movie. \n",
    "\n",
    "### Predicting ratings for unseen movies\n",
    "The next step is to take a users history and an unseen movie and predict the users rating for that movie. There are 2 ways to predict a rating:\n",
    "\n",
    "1. **User Based** - Look at how users similar to the query user rated the movie and calculate a weighted sum. Because different users will have different interpretations of what ratings are good or bad, the ratings must be normalized to show the difference between the users mean rating and the rating for the current movie.\n",
    "2. **Movie Based** - Look at how the user rated movies similar to the query movie and calculate a weighted sum. This does not require adjustment to the mean because only the current users ratings are used in the sum. \n",
    "\n",
    "For the User Based method, the predicted rating of user k for movie m is then:\n",
    "\n",
    "\\begin{equation*}\n",
    "\\hat{y}_{k,m} = \\bar{y}_{k} + \\frac{\\sum{sim_{user}(user_{k}, user_{a})(y_{a,m} - \\bar{y}_{a})}}{\\sum{\\lvert sim_{user}(user_{k}, user_{a})\\rvert}}\n",
    "\\end{equation*}\n",
    "\n",
    "For the Movie Based method, the predicted rating of user k for movie m is then:\n",
    "\n",
    "\\begin{equation*}\n",
    "\\hat{y}_{k,m} = \\frac{\\sum{sim_{movie}(movie_{m}, movie_{a})y_{k,a}}}{\\sum{\\lvert sim_{movie}(movie_{m}, movie_{a})\\rvert}}\n",
    "\\end{equation*}\n",
    "\n",
    "Care must be taken when making predictions, because our training matrix has zero's where a user did not rate a movie. If we use this matrix directly, these will be treated as actual ratings of zero and will pull our predictions towards zero artificially.\n",
    "\n",
    "### Evaluation\n",
    "A number of metrics could be used to compare the predicted ratings with the actual ratings held back in the test set. Two of the most commonly used metrics are Root Mean Squared Error (RMSE) and Mean Absolute Error (MAE). The equations for both are shown below: \n",
    "\n",
    "\\begin{equation*}\n",
    "RMSE = \\sqrt{\\frac{1}{N}\\sum_{i=1}^N(y_i - \\hat{y}_i)^2}\n",
    "\\end{equation*}\n",
    "\n",
    "\\begin{equation*}\n",
    "MAE = \\frac{1}{N}\\sum_{i=1}^N \\lvert y_i - \\hat{y}_i \\rvert\n",
    "\\end{equation*}\n",
    "\n",
    "Where $y$ is the actual rating and $\\hat{y}$ is the predicted rating and N is the number of test points. MAE has the advantage that it is directly interpretable on the scale of the ratings, as it is simply the mean distance between the predicted ratings and the actual ratings.\n",
    "\n",
    "For both the user-based and movie-based predictions we will calculate both quality metrics. I will walk through the prediction process for a single user and movie pair first.\n",
    "\n",
    "**User based prediction for a single user-movie pair**"
   ]
  },
  {
   "cell_type": "code",
   "execution_count": 40,
   "metadata": {},
   "outputs": [
    {
     "data": {
      "text/plain": [
       "(array([ 715, 1186, 1541, 4477], dtype=int64),)"
      ]
     },
     "execution_count": 40,
     "metadata": {},
     "output_type": "execute_result"
    }
   ],
   "source": [
    "# user 0 has entries in the following movieIndex's in the test matrix\n",
    "# therefore we need to make predictions for these movies\n",
    "test_matrix[0,:].nonzero()"
   ]
  },
  {
   "cell_type": "code",
   "execution_count": 41,
   "metadata": {},
   "outputs": [
    {
     "data": {
      "text/plain": [
       "(array([    4,    27,    30, ..., 17282, 17286, 17305], dtype=int64),)"
      ]
     },
     "execution_count": 41,
     "metadata": {},
     "output_type": "execute_result"
    }
   ],
   "source": [
    "# for movieIndex 715 we need to find all users that DID rate the movie in the training set\n",
    "# we use the users with userIndex below to calculate our prediction\n",
    "train_matrix[:,715].nonzero()"
   ]
  },
  {
   "cell_type": "code",
   "execution_count": 42,
   "metadata": {},
   "outputs": [
    {
     "data": {
      "text/plain": [
       "array([[ 0.17906124,  0.12489677,  0.        , ...,  0.08038237,\n",
       "         0.08282088,  0.09935196]])"
      ]
     },
     "execution_count": 42,
     "metadata": {},
     "output_type": "execute_result"
    }
   ],
   "source": [
    "# user similarities for current user with users found above\n",
    "sims= user_similarities[0, train_matrix[:,715].nonzero()]\n",
    "sims"
   ]
  },
  {
   "cell_type": "code",
   "execution_count": 43,
   "metadata": {},
   "outputs": [
    {
     "name": "stderr",
     "output_type": "stream",
     "text": [
      "C:\\Users\\phil_\\Anaconda3\\lib\\site-packages\\ipykernel_launcher.py:2: RuntimeWarning: Mean of empty slice\n",
      "  \n"
     ]
    },
    {
     "data": {
      "text/plain": [
       "array([[ 4.15909091],\n",
       "       [ 3.2       ],\n",
       "       [ 3.60784314],\n",
       "       ..., \n",
       "       [ 3.45454545],\n",
       "       [ 3.1       ],\n",
       "       [ 3.20052083]])"
      ]
     },
     "execution_count": 43,
     "metadata": {},
     "output_type": "execute_result"
    }
   ],
   "source": [
    "# average rating for each user, ignoring values that are zero\n",
    "mean_user_ratings = np.nanmean(np.where(train_matrix!=0,train_matrix,np.nan),1, keepdims=True)\n",
    "mean_user_ratings"
   ]
  },
  {
   "cell_type": "code",
   "execution_count": 44,
   "metadata": {},
   "outputs": [
    {
     "data": {
      "text/plain": [
       "(17352, 1)"
      ]
     },
     "execution_count": 44,
     "metadata": {},
     "output_type": "execute_result"
    }
   ],
   "source": [
    "mean_user_ratings.shape"
   ]
  },
  {
   "cell_type": "code",
   "execution_count": 45,
   "metadata": {},
   "outputs": [
    {
     "data": {
      "text/plain": [
       "array([[-1.35555556,  0.82040816,  0.15625   , ..., -2.59550562,\n",
       "         1.16825776,  1.28439597]])"
      ]
     },
     "execution_count": 45,
     "metadata": {},
     "output_type": "execute_result"
    }
   ],
   "source": [
    "# the difference between users average ratings and their ratings for movieIndex 715\n",
    "diff = train_matrix[train_matrix[:,715].nonzero(), 715] - mean_user_ratings[train_matrix[:,715].nonzero(),0]\n",
    "diff"
   ]
  },
  {
   "cell_type": "code",
   "execution_count": 46,
   "metadata": {},
   "outputs": [
    {
     "data": {
      "text/plain": [
       "array([[ 4.39883536]])"
      ]
     },
     "execution_count": 46,
     "metadata": {},
     "output_type": "execute_result"
    }
   ],
   "source": [
    "# now we calculate the dot product of the similarities with the rating difference above\n",
    "# then divide by the sum of the similarities and add it all to userIndex 0's mean rating\n",
    "pred = mean_user_ratings[0] + np.dot(sims, diff.T)/np.sum(sims)\n",
    "pred"
   ]
  },
  {
   "cell_type": "code",
   "execution_count": 47,
   "metadata": {},
   "outputs": [
    {
     "data": {
      "text/plain": [
       "4.0"
      ]
     },
     "execution_count": 47,
     "metadata": {},
     "output_type": "execute_result"
    }
   ],
   "source": [
    "# the actual rating\n",
    "test_matrix[0,715]"
   ]
  },
  {
   "cell_type": "markdown",
   "metadata": {},
   "source": [
    "Not bad! We predicted that the rating would be 4.4 and the actual rating was 4.0, just based on the rating that other users gave the movie and their similarity to the user with index 0.\n",
    "\n",
    "Let's calculate a prediction using the movie similarity instead.\n",
    "\n",
    "**Movie-based prediction for a single user-movie pair**"
   ]
  },
  {
   "cell_type": "code",
   "execution_count": 48,
   "metadata": {},
   "outputs": [
    {
     "data": {
      "text/plain": [
       "(array([ 106,  133,  470,  751,  878, 1013, 1019, 1043, 1156, 1538, 2148,\n",
       "        2196, 2255, 2285, 3107, 3147, 3438, 3658, 3764, 3938, 4173, 4609], dtype=int64),)"
      ]
     },
     "execution_count": 48,
     "metadata": {},
     "output_type": "execute_result"
    }
   ],
   "source": [
    "# list of all the movieIndex's that user with index 0 actually rated\n",
    "train_matrix[0,:].nonzero()"
   ]
  },
  {
   "cell_type": "code",
   "execution_count": 49,
   "metadata": {
    "collapsed": true
   },
   "outputs": [],
   "source": [
    "# similarities of movie 715 with these movies\n",
    "movie_sims = movie_similarities[715, train_matrix[0,:].nonzero()]"
   ]
  },
  {
   "cell_type": "code",
   "execution_count": 50,
   "metadata": {
    "collapsed": true
   },
   "outputs": [],
   "source": [
    "movie_ratings = train_matrix[0, train_matrix[0,:].nonzero()]"
   ]
  },
  {
   "cell_type": "code",
   "execution_count": 51,
   "metadata": {},
   "outputs": [
    {
     "data": {
      "text/plain": [
       "array([[ 4.07189941]])"
      ]
     },
     "execution_count": 51,
     "metadata": {},
     "output_type": "execute_result"
    }
   ],
   "source": [
    "# make prediction using dot product of movie_sims and the ratings user 0 gave them\n",
    "# divided by the sum of the similarities\n",
    "movie_pred = np.dot(movie_sims, movie_ratings.T)/np.sum(movie_sims)\n",
    "movie_pred"
   ]
  },
  {
   "cell_type": "markdown",
   "metadata": {},
   "source": [
    "Wow! The movie similarity prediction was 4.07 compared to the actual rating of 4.0. This is incredibly close considering it's purely based on the users ratings of other movies and the similarity of the rating history between those movies and movie 715.\n",
    "\n",
    "The accuracy of a specific prediction will be dependent on how many ratings for the user/movie of interest we have in the dataset, so for some pairs one method might be better and for some pairs the other might be better.\n",
    "\n",
    "Now we can write functions that will perform the above steps for every non-zero entry in the test matrix, and then we can evaluate the overall performance of both methods using our defined evaluation metrics.\n",
    "\n",
    "**Predictions for the entire test matrix**"
   ]
  },
  {
   "cell_type": "code",
   "execution_count": 52,
   "metadata": {
    "collapsed": true
   },
   "outputs": [],
   "source": [
    "def predict_users(train=train_matrix, test=test_matrix,  sims = user_similarities):\n",
    "    '''Function that takes in the training matrix, testing matrix and the user similarity matrix\n",
    "    and calculates predicted user ratings for each user/movie pair present in the test matrix.'''\n",
    "    # create an empty output matrix the same size as test\n",
    "    output = np.zeros((test.shape))\n",
    "    \n",
    "    # calculate the mean values for later use\n",
    "    mean_user_ratings = np.nanmean(np.where(train!=0,train,np.nan),1, keepdims=True)\n",
    "    mean_movie_ratings = np.nanmean(np.where(train!=0, train, np.nan), 0, keepdims=True)\n",
    "    \n",
    "    #check every row of the test matrix for non-zero values\n",
    "    for i in range(len(test)):\n",
    "        nonzero_test = test[i,:].nonzero()\n",
    "        \n",
    "        #if non-zero isn't empty, we need to do some calculations\n",
    "        if list(nonzero_test[0]) != []:\n",
    "            #first check that we have training data for that user\n",
    "            nonzero_train = train[i,:].nonzero()\n",
    "            # if there is training data for that user then continue\n",
    "            if list(nonzero_train[0]) != []:\n",
    "                #loop over movie indices in the array\n",
    "                for j in list(nonzero_test[0]):\n",
    "                    #find the other users that rated the movie and the similarities of those users with the current user\n",
    "                    other_users = train[:,j].nonzero()\n",
    "                    user_sims= sims[i, other_users]\n",
    "\n",
    "                    #find the difference between the ratings for this movie and the average ratings\n",
    "                    diff = train[other_users, j] - mean_user_ratings[other_users,0]\n",
    "\n",
    "                    # calculate prediction\n",
    "                    pred = mean_user_ratings[i] + np.dot(user_sims, diff.T)/np.sum(user_sims)\n",
    "\n",
    "                    #set value of output matrix equal to prediction\n",
    "                    output[i,j] = pred\n",
    "            else:\n",
    "                #if there is no training data, then just return the average rating for each movie\n",
    "                for j in list(nonzero_test[0]):\n",
    "                    pred = mean_movie_ratings[0,j]\n",
    "                    \n",
    "                    output[i,j] = pred\n",
    "                \n",
    "    return output"
   ]
  },
  {
   "cell_type": "code",
   "execution_count": 53,
   "metadata": {
    "collapsed": true
   },
   "outputs": [],
   "source": [
    "def predict_movies(train=train_matrix, test=test_matrix,  sims = movie_similarities):\n",
    "    '''Function that takes in the training matrix, testing matrix and the movie similarity matrix\n",
    "    and calculates predicted user ratings for each user/movie pair present in the test matrix.'''\n",
    "    # create an empty output matrix the same size as test\n",
    "    output = np.zeros((test.shape))\n",
    "    \n",
    "    # calculate the mean values for later use\n",
    "    mean_movie_ratings = np.nanmean(np.where(train!=0, train, np.nan), 0, keepdims=True)\n",
    "    \n",
    "    #check every row of the test matrix for non-zero values\n",
    "    for i in range(len(test)):\n",
    "        nonzero_test = test[i,:].nonzero()\n",
    "        \n",
    "        #if non-zero isn't empty, we need to do some calculations\n",
    "        if list(nonzero_test[0]) != []:\n",
    "            #first check that we have training data for that user\n",
    "            nonzero_train = train[i,:].nonzero()\n",
    "            # if there is training data for that user then continue\n",
    "            if list(nonzero_train[0]) != []:\n",
    "                #loop over movie indices in the array\n",
    "                for j in list(nonzero_test[0]):\n",
    "                    #find the indices of other movies that the user rated\n",
    "                    other_ratings_indices = train[i,:].nonzero()\n",
    "                    #find the similarities between the test movie and the other movies the user rated\n",
    "                    movie_sims= sims[j, other_ratings_indices]\n",
    "\n",
    "                    #find the actual ratings the user gave these movies\n",
    "                    other_ratings = train[i, other_ratings_indices]\n",
    "\n",
    "                    # calculate prediction\n",
    "                    pred = np.dot(movie_sims, other_ratings.T)/np.sum(movie_sims)\n",
    "\n",
    "                    #set value of output matrix equal to prediction\n",
    "                    output[i,j] = pred\n",
    "            else:\n",
    "                #if there is no training data, then just return the average rating for each movie\n",
    "                for j in list(nonzero_test[0]):\n",
    "                    pred = mean_movie_ratings[0,j]\n",
    "                    \n",
    "                    output[i,j] = pred\n",
    "                \n",
    "    return output"
   ]
  },
  {
   "cell_type": "code",
   "execution_count": 54,
   "metadata": {},
   "outputs": [
    {
     "name": "stderr",
     "output_type": "stream",
     "text": [
      "C:\\Users\\phil_\\Anaconda3\\lib\\site-packages\\ipykernel_launcher.py:8: RuntimeWarning: Mean of empty slice\n",
      "  \n"
     ]
    }
   ],
   "source": [
    "user_preds = predict_users()"
   ]
  },
  {
   "cell_type": "code",
   "execution_count": 55,
   "metadata": {
    "collapsed": true
   },
   "outputs": [],
   "source": [
    "movie_preds = predict_movies()"
   ]
  },
  {
   "cell_type": "markdown",
   "metadata": {},
   "source": [
    "Note that the runtime warning above is caused by one user for whom all of the ratings were randomly assigned to the test matrix. This means that when we try to calculate the mean rating for that user, we get a NaN value. The functions above have tests to catch this error and the predictions for that user are simply the mean rating for each movie.\n",
    "\n",
    "**Evaluation functions**"
   ]
  },
  {
   "cell_type": "code",
   "execution_count": 56,
   "metadata": {
    "collapsed": true
   },
   "outputs": [],
   "source": [
    "def calc_RMSE(predictions, actual_ratings):\n",
    "    \n",
    "    # only want to calculate on values that are non-zero in the test data\n",
    "    \n",
    "    predictions = predictions[actual_ratings.nonzero()]\n",
    "    actual_ratings = actual_ratings[actual_ratings.nonzero()]\n",
    "    \n",
    "    rmse = np.sqrt(np.mean((predictions - actual_ratings)**2))\n",
    "    \n",
    "    return rmse"
   ]
  },
  {
   "cell_type": "code",
   "execution_count": 57,
   "metadata": {},
   "outputs": [
    {
     "name": "stdout",
     "output_type": "stream",
     "text": [
      "The RMSE for the user-based method is 0.865\n",
      "The RMSE for the movie-based method is 0.92\n"
     ]
    }
   ],
   "source": [
    "print('The RMSE for the user-based method is '+ str(round(calc_RMSE(user_preds, test_matrix), 3)))\n",
    "print('The RMSE for the movie-based method is '+ str(round(calc_RMSE(movie_preds, test_matrix), 3)))"
   ]
  },
  {
   "cell_type": "code",
   "execution_count": 58,
   "metadata": {
    "collapsed": true
   },
   "outputs": [],
   "source": [
    "def calc_MAE(predictions, actual_ratings):\n",
    "    \n",
    "    # only want to calculate on values that are non-zero in the test data\n",
    "    \n",
    "    predictions = predictions[actual_ratings.nonzero()]\n",
    "    actual_ratings = actual_ratings[actual_ratings.nonzero()]\n",
    "    \n",
    "    mae = np.mean(np.abs(predictions - actual_ratings))\n",
    "    \n",
    "    return mae"
   ]
  },
  {
   "cell_type": "code",
   "execution_count": 59,
   "metadata": {},
   "outputs": [
    {
     "name": "stdout",
     "output_type": "stream",
     "text": [
      "The MAE for the user-based method is 0.66\n",
      "The MAE for the movie-based method is 0.709\n"
     ]
    }
   ],
   "source": [
    "print('The MAE for the user-based method is '+ str(round(calc_MAE(user_preds, test_matrix), 3)))\n",
    "print('The MAE for the movie-based method is '+ str(round(calc_MAE(movie_preds, test_matrix), 3)))"
   ]
  },
  {
   "cell_type": "markdown",
   "metadata": {},
   "source": [
    "These seem like decent scores! The user-based method has the lowest overall error over the testing setm despite the movie-based method winning for the single example we walked through, which emphasises my point about the accuracy depending on the available data.\n",
    "\n",
    "We can see that, on average, the user-based method predicts a score 0.66 away from the actual rating. \n",
    "\n",
    "**But is this actually a good score?** \n",
    "\n",
    "One way to test if this is a good score is to see how well a model that just predicts the average rating for every movie performs."
   ]
  },
  {
   "cell_type": "code",
   "execution_count": 60,
   "metadata": {
    "collapsed": true
   },
   "outputs": [],
   "source": [
    "def predict_means(train= train_matrix, test = test_matrix):\n",
    "    '''Takes in the train and test matrices and outputs a prediction matrix where every non-zero cell\n",
    "    of the test matrix has the average score for that movie'''\n",
    "    \n",
    "    # create an empty output matrix the same size as test\n",
    "    output = np.zeros((test.shape))\n",
    "    \n",
    "    # calculate the mean values for later use\n",
    "    mean_movie_ratings = np.nanmean(np.where(train!=0, train, np.nan), 0, keepdims=True)\n",
    "    \n",
    "    #check every row of the test matrix for non-zero values\n",
    "    for i in range(len(test)):\n",
    "        nonzero_test = test[i,:].nonzero()\n",
    "        \n",
    "        #if non-zero isn't empty, we need to do some calculations\n",
    "        if list(nonzero_test[0]) != []:\n",
    "            \n",
    "            #loop over movie indices in the array\n",
    "            for j in list(nonzero_test[0]):\n",
    "                \n",
    "                # predict the mean value\n",
    "                pred = mean_movie_ratings[0, j]\n",
    "\n",
    "                #set value of output matrix equal to prediction\n",
    "                output[i,j] = pred\n",
    "    \n",
    "    return output"
   ]
  },
  {
   "cell_type": "code",
   "execution_count": 61,
   "metadata": {
    "collapsed": true
   },
   "outputs": [],
   "source": [
    "mean_preds = predict_means()"
   ]
  },
  {
   "cell_type": "code",
   "execution_count": 62,
   "metadata": {},
   "outputs": [
    {
     "name": "stdout",
     "output_type": "stream",
     "text": [
      "The RMSE for the mean method is 0.947\n",
      "The MAE for the mean method is 0.733\n"
     ]
    }
   ],
   "source": [
    "print('The RMSE for the mean method is '+ str(round(calc_RMSE(mean_preds, test_matrix), 3)))\n",
    "print('The MAE for the mean method is '+ str(round(calc_MAE(mean_preds, test_matrix), 3)))"
   ]
  },
  {
   "cell_type": "markdown",
   "metadata": {},
   "source": [
    "Both of our methods have lower error than the mean method, so we can say that our model would provide better recommendations to users.\n",
    "\n",
    "It is worth noting that to actually provide recommendations to a user we would predict scores for movies they haven't seen and recommend the ones with the highest predicted scores.\n",
    "\n",
    "## 3. Improvements/Further Work <a class=\"anchor\" id=\"third-bullet\"></a>\n",
    "\n",
    "To summarise:\n",
    "* We have implemented both user-based and item-based collaborative filtering using the MovieLens data set\n",
    "* A test set was held back for evaluation purposes\n",
    "* For each user/movie pair in the test set we used both methods to predict a rating \n",
    "* Comparing this rating with the actual rating we were able to compute RMSE and MAE scores for the model\n",
    "* Both models were more accurate than a baseline model that simply predicted the average score for each movie\n",
    "* The best case MAE was 0.66, meaning that on average the predictions were 0.66 away from the actual rating.\n",
    "\n",
    "There are a number of things that could improve the model.\n",
    "1. **More data**: The quality of the predictions is dependent on the quality of the similarities calculated between users and items. Using a larger subsection of the data set should lead to reduced errors.\n",
    "2. **Nearest Neighbours**: Currently, the user-based method uses the rating of every other user that rated a particular movie. Whilst dissimilar users contributions are weighted to be small, there is still a contribution. We could instead take the weighted sum of only the N most similar users (or N most similar movies for the movie-based model). It would be interesting to implement this and see how the error varies with N.\n",
    "3. **Capping/Rounding**: The predictions that we have made could take on any continuous value above zero, whereas the rating scale for the original data was 0.5 to 5 in increments of 0.5. If we were to limit our predictions so anything below 0.5 is set to 0.5, anything above 5 is set to 5 and anything inbetween is rounded to the nearest 0.5 would this improve or degrade performance?\n",
    "4. **Singular Value Decomposition (SVD)**: Instead of using the cosine similarity metric, SVD can be used to 'learn' similarities between users and between features. This can then be used to build the prediction.\n",
    "5. **Time weighting**: The MovieLens dataset incorporates ratings from 1995 to 2017. As a movie gets older it is possible that for example the computer graphics used don't age well and users watching it now will perceive it to be worse. The ratings could be weighted by how recent they are, with more recent ratings counting for more.\n",
    "\n",
    "I intend to create another post exploring some of the above improvements with the same dataset, so we can see any benefits relative to this first implementation.\n",
    "\n",
    "Thanks for reading!"
   ]
  }
 ],
 "metadata": {
  "kernelspec": {
   "display_name": "Python 3",
   "language": "python",
   "name": "python3"
  },
  "language_info": {
   "codemirror_mode": {
    "name": "ipython",
    "version": 3
   },
   "file_extension": ".py",
   "mimetype": "text/x-python",
   "name": "python",
   "nbconvert_exporter": "python",
   "pygments_lexer": "ipython3",
   "version": "3.6.3"
  }
 },
 "nbformat": 4,
 "nbformat_minor": 2
}
